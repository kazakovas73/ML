{
 "cells": [
  {
   "cell_type": "code",
   "execution_count": 1,
   "metadata": {},
   "outputs": [],
   "source": [
    "import matplotlib.pyplot as plt\n",
    "import numpy as np\n",
    "from sklearn.model_selection import train_test_split\n",
    "from sklearn.metrics import mean_squared_log_error\n",
    "import pandas as pd\n",
    "from pandas import get_dummies\n",
    "import seaborn as sns\n",
    "from catboost import CatBoostRegressor\n",
    "#from xgboost import XGBRegressor\n",
    "%matplotlib inline"
   ]
  },
  {
   "cell_type": "code",
   "execution_count": 2,
   "metadata": {},
   "outputs": [
    {
     "data": {
      "text/html": [
       "<div>\n",
       "<style scoped>\n",
       "    .dataframe tbody tr th:only-of-type {\n",
       "        vertical-align: middle;\n",
       "    }\n",
       "\n",
       "    .dataframe tbody tr th {\n",
       "        vertical-align: top;\n",
       "    }\n",
       "\n",
       "    .dataframe thead th {\n",
       "        text-align: right;\n",
       "    }\n",
       "</style>\n",
       "<table border=\"1\" class=\"dataframe\">\n",
       "  <thead>\n",
       "    <tr style=\"text-align: right;\">\n",
       "      <th></th>\n",
       "      <th>price</th>\n",
       "      <th>area</th>\n",
       "      <th>floor</th>\n",
       "      <th>year</th>\n",
       "      <th>region</th>\n",
       "      <th>fridge</th>\n",
       "      <th>tv</th>\n",
       "      <th>bath</th>\n",
       "      <th>conditioner</th>\n",
       "      <th>internet</th>\n",
       "      <th>washing_machine</th>\n",
       "      <th>dishwasher</th>\n",
       "      <th>furniture_in_rooms</th>\n",
       "      <th>furniture_in_kitchen</th>\n",
       "    </tr>\n",
       "  </thead>\n",
       "  <tbody>\n",
       "    <tr>\n",
       "      <th>0</th>\n",
       "      <td>330000</td>\n",
       "      <td>95.0</td>\n",
       "      <td>44</td>\n",
       "      <td>NaN</td>\n",
       "      <td>ЦАО</td>\n",
       "      <td>1</td>\n",
       "      <td>1</td>\n",
       "      <td>1</td>\n",
       "      <td>1</td>\n",
       "      <td>1</td>\n",
       "      <td>1</td>\n",
       "      <td>1</td>\n",
       "      <td>1</td>\n",
       "      <td>1</td>\n",
       "    </tr>\n",
       "    <tr>\n",
       "      <th>1</th>\n",
       "      <td>220000</td>\n",
       "      <td>53.0</td>\n",
       "      <td>69</td>\n",
       "      <td>NaN</td>\n",
       "      <td>ЦАО</td>\n",
       "      <td>1</td>\n",
       "      <td>1</td>\n",
       "      <td>1</td>\n",
       "      <td>1</td>\n",
       "      <td>1</td>\n",
       "      <td>1</td>\n",
       "      <td>1</td>\n",
       "      <td>1</td>\n",
       "      <td>1</td>\n",
       "    </tr>\n",
       "    <tr>\n",
       "      <th>2</th>\n",
       "      <td>175000</td>\n",
       "      <td>60.0</td>\n",
       "      <td>40</td>\n",
       "      <td>2020.0</td>\n",
       "      <td>ЦАО</td>\n",
       "      <td>1</td>\n",
       "      <td>1</td>\n",
       "      <td>1</td>\n",
       "      <td>1</td>\n",
       "      <td>1</td>\n",
       "      <td>1</td>\n",
       "      <td>1</td>\n",
       "      <td>1</td>\n",
       "      <td>1</td>\n",
       "    </tr>\n",
       "    <tr>\n",
       "      <th>3</th>\n",
       "      <td>400000</td>\n",
       "      <td>115.0</td>\n",
       "      <td>6</td>\n",
       "      <td>2014.0</td>\n",
       "      <td>ЦАО</td>\n",
       "      <td>1</td>\n",
       "      <td>1</td>\n",
       "      <td>0</td>\n",
       "      <td>0</td>\n",
       "      <td>1</td>\n",
       "      <td>1</td>\n",
       "      <td>1</td>\n",
       "      <td>1</td>\n",
       "      <td>1</td>\n",
       "    </tr>\n",
       "    <tr>\n",
       "      <th>4</th>\n",
       "      <td>220000</td>\n",
       "      <td>70.0</td>\n",
       "      <td>64</td>\n",
       "      <td>NaN</td>\n",
       "      <td>ЦАО</td>\n",
       "      <td>1</td>\n",
       "      <td>1</td>\n",
       "      <td>1</td>\n",
       "      <td>1</td>\n",
       "      <td>1</td>\n",
       "      <td>1</td>\n",
       "      <td>1</td>\n",
       "      <td>1</td>\n",
       "      <td>1</td>\n",
       "    </tr>\n",
       "  </tbody>\n",
       "</table>\n",
       "</div>"
      ],
      "text/plain": [
       "    price   area  floor    year region  fridge  tv  bath  conditioner  \\\n",
       "0  330000   95.0     44     NaN    ЦАО       1   1     1            1   \n",
       "1  220000   53.0     69     NaN    ЦАО       1   1     1            1   \n",
       "2  175000   60.0     40  2020.0    ЦАО       1   1     1            1   \n",
       "3  400000  115.0      6  2014.0    ЦАО       1   1     0            0   \n",
       "4  220000   70.0     64     NaN    ЦАО       1   1     1            1   \n",
       "\n",
       "   internet  washing_machine  dishwasher  furniture_in_rooms  \\\n",
       "0         1                1           1                   1   \n",
       "1         1                1           1                   1   \n",
       "2         1                1           1                   1   \n",
       "3         1                1           1                   1   \n",
       "4         1                1           1                   1   \n",
       "\n",
       "   furniture_in_kitchen  \n",
       "0                     1  \n",
       "1                     1  \n",
       "2                     1  \n",
       "3                     1  \n",
       "4                     1  "
      ]
     },
     "execution_count": 2,
     "metadata": {},
     "output_type": "execute_result"
    }
   ],
   "source": [
    "df = pd.read_excel(\"cian_rent12.xlsx\")\n",
    "df.head()"
   ]
  },
  {
   "cell_type": "code",
   "execution_count": 3,
   "metadata": {},
   "outputs": [
    {
     "data": {
      "text/html": [
       "<div>\n",
       "<style scoped>\n",
       "    .dataframe tbody tr th:only-of-type {\n",
       "        vertical-align: middle;\n",
       "    }\n",
       "\n",
       "    .dataframe tbody tr th {\n",
       "        vertical-align: top;\n",
       "    }\n",
       "\n",
       "    .dataframe thead th {\n",
       "        text-align: right;\n",
       "    }\n",
       "</style>\n",
       "<table border=\"1\" class=\"dataframe\">\n",
       "  <thead>\n",
       "    <tr style=\"text-align: right;\">\n",
       "      <th></th>\n",
       "      <th>price</th>\n",
       "      <th>area</th>\n",
       "      <th>floor</th>\n",
       "      <th>year</th>\n",
       "      <th>region</th>\n",
       "      <th>fridge</th>\n",
       "      <th>tv</th>\n",
       "      <th>bath</th>\n",
       "      <th>conditioner</th>\n",
       "      <th>internet</th>\n",
       "      <th>washing_machine</th>\n",
       "      <th>dishwasher</th>\n",
       "      <th>furniture_in_rooms</th>\n",
       "      <th>furniture_in_kitchen</th>\n",
       "    </tr>\n",
       "  </thead>\n",
       "  <tbody>\n",
       "    <tr>\n",
       "      <th>0</th>\n",
       "      <td>330000</td>\n",
       "      <td>95.0</td>\n",
       "      <td>44</td>\n",
       "      <td>NaN</td>\n",
       "      <td>CAO</td>\n",
       "      <td>1</td>\n",
       "      <td>1</td>\n",
       "      <td>1</td>\n",
       "      <td>1</td>\n",
       "      <td>1</td>\n",
       "      <td>1</td>\n",
       "      <td>1</td>\n",
       "      <td>1</td>\n",
       "      <td>1</td>\n",
       "    </tr>\n",
       "    <tr>\n",
       "      <th>1</th>\n",
       "      <td>220000</td>\n",
       "      <td>53.0</td>\n",
       "      <td>69</td>\n",
       "      <td>NaN</td>\n",
       "      <td>CAO</td>\n",
       "      <td>1</td>\n",
       "      <td>1</td>\n",
       "      <td>1</td>\n",
       "      <td>1</td>\n",
       "      <td>1</td>\n",
       "      <td>1</td>\n",
       "      <td>1</td>\n",
       "      <td>1</td>\n",
       "      <td>1</td>\n",
       "    </tr>\n",
       "    <tr>\n",
       "      <th>2</th>\n",
       "      <td>175000</td>\n",
       "      <td>60.0</td>\n",
       "      <td>40</td>\n",
       "      <td>2020.0</td>\n",
       "      <td>CAO</td>\n",
       "      <td>1</td>\n",
       "      <td>1</td>\n",
       "      <td>1</td>\n",
       "      <td>1</td>\n",
       "      <td>1</td>\n",
       "      <td>1</td>\n",
       "      <td>1</td>\n",
       "      <td>1</td>\n",
       "      <td>1</td>\n",
       "    </tr>\n",
       "    <tr>\n",
       "      <th>3</th>\n",
       "      <td>400000</td>\n",
       "      <td>115.0</td>\n",
       "      <td>6</td>\n",
       "      <td>2014.0</td>\n",
       "      <td>CAO</td>\n",
       "      <td>1</td>\n",
       "      <td>1</td>\n",
       "      <td>0</td>\n",
       "      <td>0</td>\n",
       "      <td>1</td>\n",
       "      <td>1</td>\n",
       "      <td>1</td>\n",
       "      <td>1</td>\n",
       "      <td>1</td>\n",
       "    </tr>\n",
       "    <tr>\n",
       "      <th>4</th>\n",
       "      <td>220000</td>\n",
       "      <td>70.0</td>\n",
       "      <td>64</td>\n",
       "      <td>NaN</td>\n",
       "      <td>CAO</td>\n",
       "      <td>1</td>\n",
       "      <td>1</td>\n",
       "      <td>1</td>\n",
       "      <td>1</td>\n",
       "      <td>1</td>\n",
       "      <td>1</td>\n",
       "      <td>1</td>\n",
       "      <td>1</td>\n",
       "      <td>1</td>\n",
       "    </tr>\n",
       "  </tbody>\n",
       "</table>\n",
       "</div>"
      ],
      "text/plain": [
       "    price   area  floor    year region  fridge  tv  bath  conditioner  \\\n",
       "0  330000   95.0     44     NaN    CAO       1   1     1            1   \n",
       "1  220000   53.0     69     NaN    CAO       1   1     1            1   \n",
       "2  175000   60.0     40  2020.0    CAO       1   1     1            1   \n",
       "3  400000  115.0      6  2014.0    CAO       1   1     0            0   \n",
       "4  220000   70.0     64     NaN    CAO       1   1     1            1   \n",
       "\n",
       "   internet  washing_machine  dishwasher  furniture_in_rooms  \\\n",
       "0         1                1           1                   1   \n",
       "1         1                1           1                   1   \n",
       "2         1                1           1                   1   \n",
       "3         1                1           1                   1   \n",
       "4         1                1           1                   1   \n",
       "\n",
       "   furniture_in_kitchen  \n",
       "0                     1  \n",
       "1                     1  \n",
       "2                     1  \n",
       "3                     1  \n",
       "4                     1  "
      ]
     },
     "execution_count": 3,
     "metadata": {},
     "output_type": "execute_result"
    }
   ],
   "source": [
    "reg_dict = {'ЦАО': \"CAO\", 'ЗАО': \"ZAO\", 'САО': \"SAO\", 'ЮЗАО': \"YZAO\", 'СВАО': \"AVAO\", 'ЮВАО': \"YVAO\", 'ЮАО':\"YAO\", \n",
    "            'ВАО': \"VAO\", 'СЗАО': \"SZAO\", 'НАО': \"NAO\", 'ЗелАО': \"ZELAO\", 'ТАО': \"TAO\"}\n",
    "\n",
    "for i in range(df.shape[0]):\n",
    "    df.loc[i, \"region\"] = reg_dict[df.loc[i, \"region\"]]\n",
    "    \n",
    "df.head()"
   ]
  },
  {
   "cell_type": "code",
   "execution_count": 4,
   "metadata": {},
   "outputs": [
    {
     "data": {
      "text/plain": [
       "price                     0\n",
       "area                      0\n",
       "floor                     0\n",
       "year                    446\n",
       "region                    0\n",
       "fridge                    0\n",
       "tv                        0\n",
       "bath                      0\n",
       "conditioner               0\n",
       "internet                  0\n",
       "washing_machine           0\n",
       "dishwasher                0\n",
       "furniture_in_rooms        0\n",
       "furniture_in_kitchen      0\n",
       "dtype: int64"
      ]
     },
     "execution_count": 4,
     "metadata": {},
     "output_type": "execute_result"
    }
   ],
   "source": [
    "df.isna().sum()"
   ]
  },
  {
   "cell_type": "code",
   "execution_count": 5,
   "metadata": {},
   "outputs": [],
   "source": [
    "df_clear = df.dropna()"
   ]
  },
  {
   "cell_type": "code",
   "execution_count": 6,
   "metadata": {},
   "outputs": [
    {
     "data": {
      "text/plain": [
       "price                   0\n",
       "area                    0\n",
       "floor                   0\n",
       "year                    0\n",
       "region                  0\n",
       "fridge                  0\n",
       "tv                      0\n",
       "bath                    0\n",
       "conditioner             0\n",
       "internet                0\n",
       "washing_machine         0\n",
       "dishwasher              0\n",
       "furniture_in_rooms      0\n",
       "furniture_in_kitchen    0\n",
       "dtype: int64"
      ]
     },
     "execution_count": 6,
     "metadata": {},
     "output_type": "execute_result"
    }
   ],
   "source": [
    "df_clear.isna().sum()"
   ]
  },
  {
   "cell_type": "code",
   "execution_count": 7,
   "metadata": {},
   "outputs": [
    {
     "data": {
      "image/png": "[encoded data removed]",
      "text/plain": [
       "<Figure size 432x288 with 2 Axes>"
      ]
     },
     "metadata": {
      "needs_background": "light"
     },
     "output_type": "display_data"
    }
   ],
   "source": [
    "sns.heatmap(df_clear.drop(\"region\", axis=1).corr())\n",
    "None"
   ]
  },
  {
   "cell_type": "code",
   "execution_count": 8,
   "metadata": {},
   "outputs": [
    {
     "data": {
      "text/html": [
       "<div>\n",
       "<style scoped>\n",
       "    .dataframe tbody tr th:only-of-type {\n",
       "        vertical-align: middle;\n",
       "    }\n",
       "\n",
       "    .dataframe tbody tr th {\n",
       "        vertical-align: top;\n",
       "    }\n",
       "\n",
       "    .dataframe thead th {\n",
       "        text-align: right;\n",
       "    }\n",
       "</style>\n",
       "<table border=\"1\" class=\"dataframe\">\n",
       "  <thead>\n",
       "    <tr style=\"text-align: right;\">\n",
       "      <th></th>\n",
       "      <th>price</th>\n",
       "      <th>area</th>\n",
       "      <th>floor</th>\n",
       "      <th>year</th>\n",
       "      <th>fridge</th>\n",
       "      <th>tv</th>\n",
       "      <th>bath</th>\n",
       "      <th>conditioner</th>\n",
       "      <th>internet</th>\n",
       "      <th>washing_machine</th>\n",
       "      <th>dishwasher</th>\n",
       "      <th>furniture_in_rooms</th>\n",
       "      <th>furniture_in_kitchen</th>\n",
       "    </tr>\n",
       "  </thead>\n",
       "  <tbody>\n",
       "    <tr>\n",
       "      <th>price</th>\n",
       "      <td>1.000000</td>\n",
       "      <td>0.756609</td>\n",
       "      <td>0.418187</td>\n",
       "      <td>0.295517</td>\n",
       "      <td>0.029565</td>\n",
       "      <td>0.150788</td>\n",
       "      <td>-0.063372</td>\n",
       "      <td>0.253774</td>\n",
       "      <td>0.031551</td>\n",
       "      <td>0.024404</td>\n",
       "      <td>0.403775</td>\n",
       "      <td>0.041938</td>\n",
       "      <td>0.047108</td>\n",
       "    </tr>\n",
       "    <tr>\n",
       "      <th>area</th>\n",
       "      <td>0.756609</td>\n",
       "      <td>1.000000</td>\n",
       "      <td>0.291471</td>\n",
       "      <td>0.250837</td>\n",
       "      <td>0.060167</td>\n",
       "      <td>0.174547</td>\n",
       "      <td>-0.013939</td>\n",
       "      <td>0.256634</td>\n",
       "      <td>0.051101</td>\n",
       "      <td>0.105884</td>\n",
       "      <td>0.425036</td>\n",
       "      <td>0.063375</td>\n",
       "      <td>0.081781</td>\n",
       "    </tr>\n",
       "    <tr>\n",
       "      <th>floor</th>\n",
       "      <td>0.418187</td>\n",
       "      <td>0.291471</td>\n",
       "      <td>1.000000</td>\n",
       "      <td>0.410130</td>\n",
       "      <td>-0.007047</td>\n",
       "      <td>0.089305</td>\n",
       "      <td>0.010364</td>\n",
       "      <td>0.234611</td>\n",
       "      <td>-0.025685</td>\n",
       "      <td>-0.045687</td>\n",
       "      <td>0.279965</td>\n",
       "      <td>0.022922</td>\n",
       "      <td>0.005526</td>\n",
       "    </tr>\n",
       "    <tr>\n",
       "      <th>year</th>\n",
       "      <td>0.295517</td>\n",
       "      <td>0.250837</td>\n",
       "      <td>0.410130</td>\n",
       "      <td>1.000000</td>\n",
       "      <td>-0.073145</td>\n",
       "      <td>0.026246</td>\n",
       "      <td>-0.066691</td>\n",
       "      <td>0.162406</td>\n",
       "      <td>-0.035385</td>\n",
       "      <td>-0.108279</td>\n",
       "      <td>0.269702</td>\n",
       "      <td>-0.066148</td>\n",
       "      <td>-0.062568</td>\n",
       "    </tr>\n",
       "    <tr>\n",
       "      <th>fridge</th>\n",
       "      <td>0.029565</td>\n",
       "      <td>0.060167</td>\n",
       "      <td>-0.007047</td>\n",
       "      <td>-0.073145</td>\n",
       "      <td>1.000000</td>\n",
       "      <td>0.477945</td>\n",
       "      <td>0.331267</td>\n",
       "      <td>0.219447</td>\n",
       "      <td>0.548040</td>\n",
       "      <td>0.805641</td>\n",
       "      <td>0.231130</td>\n",
       "      <td>0.838822</td>\n",
       "      <td>0.895775</td>\n",
       "    </tr>\n",
       "    <tr>\n",
       "      <th>tv</th>\n",
       "      <td>0.150788</td>\n",
       "      <td>0.174547</td>\n",
       "      <td>0.089305</td>\n",
       "      <td>0.026246</td>\n",
       "      <td>0.477945</td>\n",
       "      <td>1.000000</td>\n",
       "      <td>0.168827</td>\n",
       "      <td>0.347034</td>\n",
       "      <td>0.527676</td>\n",
       "      <td>0.469951</td>\n",
       "      <td>0.317359</td>\n",
       "      <td>0.519480</td>\n",
       "      <td>0.472415</td>\n",
       "    </tr>\n",
       "    <tr>\n",
       "      <th>bath</th>\n",
       "      <td>-0.063372</td>\n",
       "      <td>-0.013939</td>\n",
       "      <td>0.010364</td>\n",
       "      <td>-0.066691</td>\n",
       "      <td>0.331267</td>\n",
       "      <td>0.168827</td>\n",
       "      <td>1.000000</td>\n",
       "      <td>0.072196</td>\n",
       "      <td>0.312917</td>\n",
       "      <td>0.296353</td>\n",
       "      <td>0.024467</td>\n",
       "      <td>0.280510</td>\n",
       "      <td>0.318674</td>\n",
       "    </tr>\n",
       "    <tr>\n",
       "      <th>conditioner</th>\n",
       "      <td>0.253774</td>\n",
       "      <td>0.256634</td>\n",
       "      <td>0.234611</td>\n",
       "      <td>0.162406</td>\n",
       "      <td>0.219447</td>\n",
       "      <td>0.347034</td>\n",
       "      <td>0.072196</td>\n",
       "      <td>1.000000</td>\n",
       "      <td>0.302359</td>\n",
       "      <td>0.237534</td>\n",
       "      <td>0.525403</td>\n",
       "      <td>0.233734</td>\n",
       "      <td>0.220550</td>\n",
       "    </tr>\n",
       "    <tr>\n",
       "      <th>internet</th>\n",
       "      <td>0.031551</td>\n",
       "      <td>0.051101</td>\n",
       "      <td>-0.025685</td>\n",
       "      <td>-0.035385</td>\n",
       "      <td>0.548040</td>\n",
       "      <td>0.527676</td>\n",
       "      <td>0.312917</td>\n",
       "      <td>0.302359</td>\n",
       "      <td>1.000000</td>\n",
       "      <td>0.553262</td>\n",
       "      <td>0.298889</td>\n",
       "      <td>0.501591</td>\n",
       "      <td>0.544281</td>\n",
       "    </tr>\n",
       "    <tr>\n",
       "      <th>washing_machine</th>\n",
       "      <td>0.024404</td>\n",
       "      <td>0.105884</td>\n",
       "      <td>-0.045687</td>\n",
       "      <td>-0.108279</td>\n",
       "      <td>0.805641</td>\n",
       "      <td>0.469951</td>\n",
       "      <td>0.296353</td>\n",
       "      <td>0.237534</td>\n",
       "      <td>0.553262</td>\n",
       "      <td>1.000000</td>\n",
       "      <td>0.286909</td>\n",
       "      <td>0.723690</td>\n",
       "      <td>0.762659</td>\n",
       "    </tr>\n",
       "    <tr>\n",
       "      <th>dishwasher</th>\n",
       "      <td>0.403775</td>\n",
       "      <td>0.425036</td>\n",
       "      <td>0.279965</td>\n",
       "      <td>0.269702</td>\n",
       "      <td>0.231130</td>\n",
       "      <td>0.317359</td>\n",
       "      <td>0.024467</td>\n",
       "      <td>0.525403</td>\n",
       "      <td>0.298889</td>\n",
       "      <td>0.286909</td>\n",
       "      <td>1.000000</td>\n",
       "      <td>0.224726</td>\n",
       "      <td>0.244904</td>\n",
       "    </tr>\n",
       "    <tr>\n",
       "      <th>furniture_in_rooms</th>\n",
       "      <td>0.041938</td>\n",
       "      <td>0.063375</td>\n",
       "      <td>0.022922</td>\n",
       "      <td>-0.066148</td>\n",
       "      <td>0.838822</td>\n",
       "      <td>0.519480</td>\n",
       "      <td>0.280510</td>\n",
       "      <td>0.233734</td>\n",
       "      <td>0.501591</td>\n",
       "      <td>0.723690</td>\n",
       "      <td>0.224726</td>\n",
       "      <td>1.000000</td>\n",
       "      <td>0.833686</td>\n",
       "    </tr>\n",
       "    <tr>\n",
       "      <th>furniture_in_kitchen</th>\n",
       "      <td>0.047108</td>\n",
       "      <td>0.081781</td>\n",
       "      <td>0.005526</td>\n",
       "      <td>-0.062568</td>\n",
       "      <td>0.895775</td>\n",
       "      <td>0.472415</td>\n",
       "      <td>0.318674</td>\n",
       "      <td>0.220550</td>\n",
       "      <td>0.544281</td>\n",
       "      <td>0.762659</td>\n",
       "      <td>0.244904</td>\n",
       "      <td>0.833686</td>\n",
       "      <td>1.000000</td>\n",
       "    </tr>\n",
       "  </tbody>\n",
       "</table>\n",
       "</div>"
      ],
      "text/plain": [
       "                         price      area     floor      year    fridge  \\\n",
       "price                 1.000000  0.756609  0.418187  0.295517  0.029565   \n",
       "area                  0.756609  1.000000  0.291471  0.250837  0.060167   \n",
       "floor                 0.418187  0.291471  1.000000  0.410130 -0.007047   \n",
       "year                  0.295517  0.250837  0.410130  1.000000 -0.073145   \n",
       "fridge                0.029565  0.060167 -0.007047 -0.073145  1.000000   \n",
       "tv                    0.150788  0.174547  0.089305  0.026246  0.477945   \n",
       "bath                 -0.063372 -0.013939  0.010364 -0.066691  0.331267   \n",
       "conditioner           0.253774  0.256634  0.234611  0.162406  0.219447   \n",
       "internet              0.031551  0.051101 -0.025685 -0.035385  0.548040   \n",
       "washing_machine       0.024404  0.105884 -0.045687 -0.108279  0.805641   \n",
       "dishwasher            0.403775  0.425036  0.279965  0.269702  0.231130   \n",
       "furniture_in_rooms    0.041938  0.063375  0.022922 -0.066148  0.838822   \n",
       "furniture_in_kitchen  0.047108  0.081781  0.005526 -0.062568  0.895775   \n",
       "\n",
       "                            tv      bath  conditioner  internet  \\\n",
       "price                 0.150788 -0.063372     0.253774  0.031551   \n",
       "area                  0.174547 -0.013939     0.256634  0.051101   \n",
       "floor                 0.089305  0.010364     0.234611 -0.025685   \n",
       "year                  0.026246 -0.066691     0.162406 -0.035385   \n",
       "fridge                0.477945  0.331267     0.219447  0.548040   \n",
       "tv                    1.000000  0.168827     0.347034  0.527676   \n",
       "bath                  0.168827  1.000000     0.072196  0.312917   \n",
       "conditioner           0.347034  0.072196     1.000000  0.302359   \n",
       "internet              0.527676  0.312917     0.302359  1.000000   \n",
       "washing_machine       0.469951  0.296353     0.237534  0.553262   \n",
       "dishwasher            0.317359  0.024467     0.525403  0.298889   \n",
       "furniture_in_rooms    0.519480  0.280510     0.233734  0.501591   \n",
       "furniture_in_kitchen  0.472415  0.318674     0.220550  0.544281   \n",
       "\n",
       "                      washing_machine  dishwasher  furniture_in_rooms  \\\n",
       "price                        0.024404    0.403775            0.041938   \n",
       "area                         0.105884    0.425036            0.063375   \n",
       "floor                       -0.045687    0.279965            0.022922   \n",
       "year                        -0.108279    0.269702           -0.066148   \n",
       "fridge                       0.805641    0.231130            0.838822   \n",
       "tv                           0.469951    0.317359            0.519480   \n",
       "bath                         0.296353    0.024467            0.280510   \n",
       "conditioner                  0.237534    0.525403            0.233734   \n",
       "internet                     0.553262    0.298889            0.501591   \n",
       "washing_machine              1.000000    0.286909            0.723690   \n",
       "dishwasher                   0.286909    1.000000            0.224726   \n",
       "furniture_in_rooms           0.723690    0.224726            1.000000   \n",
       "furniture_in_kitchen         0.762659    0.244904            0.833686   \n",
       "\n",
       "                      furniture_in_kitchen  \n",
       "price                             0.047108  \n",
       "area                              0.081781  \n",
       "floor                             0.005526  \n",
       "year                             -0.062568  \n",
       "fridge                            0.895775  \n",
       "tv                                0.472415  \n",
       "bath                              0.318674  \n",
       "conditioner                       0.220550  \n",
       "internet                          0.544281  \n",
       "washing_machine                   0.762659  \n",
       "dishwasher                        0.244904  \n",
       "furniture_in_rooms                0.833686  \n",
       "furniture_in_kitchen              1.000000  "
      ]
     },
     "execution_count": 8,
     "metadata": {},
     "output_type": "execute_result"
    }
   ],
   "source": [
    "df_clear.drop(\"region\", axis=1).corr()"
   ]
  },
  {
   "cell_type": "code",
   "execution_count": 9,
   "metadata": {},
   "outputs": [
    {
     "data": {
      "image/png": "[encoded data removed]",
      "text/plain": [
       "<Figure size 432x288 with 1 Axes>"
      ]
     },
     "metadata": {
      "needs_background": "light"
     },
     "output_type": "display_data"
    }
   ],
   "source": [
    "plt.hist(df_clear[\"price\"], bins=10)\n",
    "None"
   ]
  },
  {
   "cell_type": "code",
   "execution_count": 10,
   "metadata": {},
   "outputs": [
    {
     "data": {
      "text/html": [
       "<div>\n",
       "<style scoped>\n",
       "    .dataframe tbody tr th:only-of-type {\n",
       "        vertical-align: middle;\n",
       "    }\n",
       "\n",
       "    .dataframe tbody tr th {\n",
       "        vertical-align: top;\n",
       "    }\n",
       "\n",
       "    .dataframe thead th {\n",
       "        text-align: right;\n",
       "    }\n",
       "</style>\n",
       "<table border=\"1\" class=\"dataframe\">\n",
       "  <thead>\n",
       "    <tr style=\"text-align: right;\">\n",
       "      <th></th>\n",
       "      <th>price</th>\n",
       "      <th>area</th>\n",
       "      <th>floor</th>\n",
       "      <th>year</th>\n",
       "      <th>fridge</th>\n",
       "      <th>tv</th>\n",
       "      <th>bath</th>\n",
       "      <th>conditioner</th>\n",
       "      <th>internet</th>\n",
       "      <th>washing_machine</th>\n",
       "      <th>...</th>\n",
       "      <th>region_NAO</th>\n",
       "      <th>region_SAO</th>\n",
       "      <th>region_SZAO</th>\n",
       "      <th>region_TAO</th>\n",
       "      <th>region_VAO</th>\n",
       "      <th>region_YAO</th>\n",
       "      <th>region_YVAO</th>\n",
       "      <th>region_YZAO</th>\n",
       "      <th>region_ZAO</th>\n",
       "      <th>region_ZELAO</th>\n",
       "    </tr>\n",
       "  </thead>\n",
       "  <tbody>\n",
       "    <tr>\n",
       "      <th>2</th>\n",
       "      <td>175000</td>\n",
       "      <td>60.0</td>\n",
       "      <td>40</td>\n",
       "      <td>2020.0</td>\n",
       "      <td>1</td>\n",
       "      <td>1</td>\n",
       "      <td>1</td>\n",
       "      <td>1</td>\n",
       "      <td>1</td>\n",
       "      <td>1</td>\n",
       "      <td>...</td>\n",
       "      <td>0</td>\n",
       "      <td>0</td>\n",
       "      <td>0</td>\n",
       "      <td>0</td>\n",
       "      <td>0</td>\n",
       "      <td>0</td>\n",
       "      <td>0</td>\n",
       "      <td>0</td>\n",
       "      <td>0</td>\n",
       "      <td>0</td>\n",
       "    </tr>\n",
       "    <tr>\n",
       "      <th>3</th>\n",
       "      <td>400000</td>\n",
       "      <td>115.0</td>\n",
       "      <td>6</td>\n",
       "      <td>2014.0</td>\n",
       "      <td>1</td>\n",
       "      <td>1</td>\n",
       "      <td>0</td>\n",
       "      <td>0</td>\n",
       "      <td>1</td>\n",
       "      <td>1</td>\n",
       "      <td>...</td>\n",
       "      <td>0</td>\n",
       "      <td>0</td>\n",
       "      <td>0</td>\n",
       "      <td>0</td>\n",
       "      <td>0</td>\n",
       "      <td>0</td>\n",
       "      <td>0</td>\n",
       "      <td>0</td>\n",
       "      <td>0</td>\n",
       "      <td>0</td>\n",
       "    </tr>\n",
       "    <tr>\n",
       "      <th>5</th>\n",
       "      <td>250000</td>\n",
       "      <td>53.4</td>\n",
       "      <td>60</td>\n",
       "      <td>2019.0</td>\n",
       "      <td>1</td>\n",
       "      <td>0</td>\n",
       "      <td>1</td>\n",
       "      <td>1</td>\n",
       "      <td>0</td>\n",
       "      <td>1</td>\n",
       "      <td>...</td>\n",
       "      <td>0</td>\n",
       "      <td>0</td>\n",
       "      <td>0</td>\n",
       "      <td>0</td>\n",
       "      <td>0</td>\n",
       "      <td>0</td>\n",
       "      <td>0</td>\n",
       "      <td>0</td>\n",
       "      <td>0</td>\n",
       "      <td>0</td>\n",
       "    </tr>\n",
       "    <tr>\n",
       "      <th>6</th>\n",
       "      <td>400000</td>\n",
       "      <td>115.0</td>\n",
       "      <td>6</td>\n",
       "      <td>2015.0</td>\n",
       "      <td>1</td>\n",
       "      <td>1</td>\n",
       "      <td>0</td>\n",
       "      <td>0</td>\n",
       "      <td>1</td>\n",
       "      <td>1</td>\n",
       "      <td>...</td>\n",
       "      <td>0</td>\n",
       "      <td>0</td>\n",
       "      <td>0</td>\n",
       "      <td>0</td>\n",
       "      <td>0</td>\n",
       "      <td>0</td>\n",
       "      <td>0</td>\n",
       "      <td>0</td>\n",
       "      <td>0</td>\n",
       "      <td>0</td>\n",
       "    </tr>\n",
       "    <tr>\n",
       "      <th>7</th>\n",
       "      <td>240000</td>\n",
       "      <td>53.3</td>\n",
       "      <td>64</td>\n",
       "      <td>2020.0</td>\n",
       "      <td>1</td>\n",
       "      <td>1</td>\n",
       "      <td>1</td>\n",
       "      <td>0</td>\n",
       "      <td>0</td>\n",
       "      <td>0</td>\n",
       "      <td>...</td>\n",
       "      <td>0</td>\n",
       "      <td>0</td>\n",
       "      <td>0</td>\n",
       "      <td>0</td>\n",
       "      <td>0</td>\n",
       "      <td>0</td>\n",
       "      <td>0</td>\n",
       "      <td>0</td>\n",
       "      <td>0</td>\n",
       "      <td>0</td>\n",
       "    </tr>\n",
       "  </tbody>\n",
       "</table>\n",
       "<p>5 rows × 25 columns</p>\n",
       "</div>"
      ],
      "text/plain": [
       "    price   area  floor    year  fridge  tv  bath  conditioner  internet  \\\n",
       "2  175000   60.0     40  2020.0       1   1     1            1         1   \n",
       "3  400000  115.0      6  2014.0       1   1     0            0         1   \n",
       "5  250000   53.4     60  2019.0       1   0     1            1         0   \n",
       "6  400000  115.0      6  2015.0       1   1     0            0         1   \n",
       "7  240000   53.3     64  2020.0       1   1     1            0         0   \n",
       "\n",
       "   washing_machine  ...  region_NAO  region_SAO  region_SZAO  region_TAO  \\\n",
       "2                1  ...           0           0            0           0   \n",
       "3                1  ...           0           0            0           0   \n",
       "5                1  ...           0           0            0           0   \n",
       "6                1  ...           0           0            0           0   \n",
       "7                0  ...           0           0            0           0   \n",
       "\n",
       "   region_VAO  region_YAO  region_YVAO  region_YZAO  region_ZAO  region_ZELAO  \n",
       "2           0           0            0            0           0             0  \n",
       "3           0           0            0            0           0             0  \n",
       "5           0           0            0            0           0             0  \n",
       "6           0           0            0            0           0             0  \n",
       "7           0           0            0            0           0             0  \n",
       "\n",
       "[5 rows x 25 columns]"
      ]
     },
     "execution_count": 10,
     "metadata": {},
     "output_type": "execute_result"
    }
   ],
   "source": [
    "df_final = get_dummies(df_clear)\n",
    "df_final.head()"
   ]
  },
  {
   "cell_type": "code",
   "execution_count": 11,
   "metadata": {},
   "outputs": [],
   "source": [
    "X = df_final.drop(\"price\", axis=1)\n",
    "y = df_final[\"price\"]"
   ]
  },
  {
   "cell_type": "code",
   "execution_count": 12,
   "metadata": {},
   "outputs": [],
   "source": [
    "X_train, X_test, y_train, y_test = train_test_split(X, y, train_size=0.7)"
   ]
  },
  {
   "cell_type": "code",
   "execution_count": 13,
   "metadata": {},
   "outputs": [
    {
     "data": {
      "text/plain": [
       "((318, 24), (740,))"
      ]
     },
     "execution_count": 13,
     "metadata": {},
     "output_type": "execute_result"
    }
   ],
   "source": [
    "X_test.shape, y_train.shape"
   ]
  },
  {
   "cell_type": "code",
   "execution_count": 14,
   "metadata": {},
   "outputs": [],
   "source": [
    "learning_rates = [0.05, 0.1, 0.2, 0.5]\n",
    "epochs = [10, 12, 15, 20]\n",
    "max_depths = [5, 6, 7, 9, 12]"
   ]
  },
  {
   "cell_type": "code",
   "execution_count": 15,
   "metadata": {},
   "outputs": [
    {
     "data": {
      "text/plain": [
       "'for lr in learning_rates:\\n    for iter_ in epochs:\\n        for depth in max_depths:\\n            cat = CatBoostRegressor(learning_rate=lr, iterations=iter_, max_depth=depth)\\n            cat.fit(X_train, y_train)\\n            preds = cat.predict(X_test)\\n            if mean_squared_log_error(preds, y_test) < mse:\\n                mse = mean_squared_log_error(preds, y_test)\\n                best_lr = lr\\n                best_iter = iter_\\n                best_max = depth\\n'"
      ]
     },
     "execution_count": 15,
     "metadata": {},
     "output_type": "execute_result"
    }
   ],
   "source": [
    "best_lr = 0.5 #0.5\n",
    "best_iter = 20 #20\n",
    "best_max = 9 #9\n",
    "mse = 10000000\n",
    "\n",
    "'''for lr in learning_rates:\n",
    "    for iter_ in epochs:\n",
    "        for depth in max_depths:\n",
    "            cat = CatBoostRegressor(learning_rate=lr, iterations=iter_, max_depth=depth)\n",
    "            cat.fit(X_train, y_train)\n",
    "            preds = cat.predict(X_test)\n",
    "            if mean_squared_log_error(preds, y_test) < mse:\n",
    "                mse = mean_squared_log_error(preds, y_test)\n",
    "                best_lr = lr\n",
    "                best_iter = iter_\n",
    "                best_max = depth\n",
    "'''"
   ]
  },
  {
   "cell_type": "code",
   "execution_count": 16,
   "metadata": {},
   "outputs": [
    {
     "data": {
      "text/plain": [
       "(0.5, 20, 9)"
      ]
     },
     "execution_count": 16,
     "metadata": {},
     "output_type": "execute_result"
    }
   ],
   "source": [
    "best_lr, best_iter, best_max"
   ]
  },
  {
   "cell_type": "code",
   "execution_count": 17,
   "metadata": {},
   "outputs": [
    {
     "name": "stdout",
     "output_type": "stream",
     "text": [
      "0:\tlearn: 122948.7024855\ttotal: 88.8ms\tremaining: 1.69s\n",
      "1:\tlearn: 103838.5622362\ttotal: 100ms\tremaining: 901ms\n",
      "2:\tlearn: 92470.3894032\ttotal: 111ms\tremaining: 626ms\n",
      "3:\tlearn: 83873.1208074\ttotal: 121ms\tremaining: 483ms\n",
      "4:\tlearn: 80697.6969182\ttotal: 124ms\tremaining: 372ms\n",
      "5:\tlearn: 76980.7913417\ttotal: 134ms\tremaining: 313ms\n",
      "6:\tlearn: 74813.3100337\ttotal: 140ms\tremaining: 260ms\n",
      "7:\tlearn: 73266.7194522\ttotal: 141ms\tremaining: 211ms\n",
      "8:\tlearn: 66541.2663860\ttotal: 151ms\tremaining: 184ms\n",
      "9:\tlearn: 62114.0331086\ttotal: 161ms\tremaining: 161ms\n",
      "10:\tlearn: 61143.7935489\ttotal: 162ms\tremaining: 132ms\n",
      "11:\tlearn: 60289.9632052\ttotal: 163ms\tremaining: 109ms\n",
      "12:\tlearn: 56772.6155133\ttotal: 172ms\tremaining: 92.9ms\n",
      "13:\tlearn: 54107.8261460\ttotal: 176ms\tremaining: 75.2ms\n",
      "14:\tlearn: 48382.1355854\ttotal: 184ms\tremaining: 61.5ms\n",
      "15:\tlearn: 44804.2237202\ttotal: 192ms\tremaining: 47.9ms\n",
      "16:\tlearn: 42805.0079048\ttotal: 196ms\tremaining: 34.5ms\n",
      "17:\tlearn: 38219.2780922\ttotal: 203ms\tremaining: 22.5ms\n",
      "18:\tlearn: 37064.6342234\ttotal: 210ms\tremaining: 11ms\n",
      "19:\tlearn: 32809.3585953\ttotal: 216ms\tremaining: 0us\n"
     ]
    }
   ],
   "source": [
    "cat = CatBoostRegressor(learning_rate=best_lr, iterations=best_iter, max_depth=best_max)\n",
    "cat.fit(X_train, y_train)\n",
    "preds = cat.predict(X_test)"
   ]
  },
  {
   "cell_type": "code",
   "execution_count": 20,
   "metadata": {},
   "outputs": [
    {
     "data": {
      "text/plain": [
       "(500000, 238923.6277855773)"
      ]
     },
     "execution_count": 20,
     "metadata": {},
     "output_type": "execute_result"
    }
   ],
   "source": [
    "y_test.iloc[255,], preds[255]"
   ]
  },
  {
   "cell_type": "code",
   "execution_count": 21,
   "metadata": {},
   "outputs": [
    {
     "data": {
      "text/plain": [
       "<matplotlib.collections.PathCollection at 0x7f4e81149d90>"
      ]
     },
     "execution_count": 21,
     "metadata": {},
     "output_type": "execute_result"
    },
    {
     "data": {
      "image/png": "[encoded data removed]",
      "text/plain": [
       "<Figure size 720x720 with 1 Axes>"
      ]
     },
     "metadata": {
      "needs_background": "light"
     },
     "output_type": "display_data"
    }
   ],
   "source": [
    "fig = plt.figure(figsize=(10, 10))\n",
    "plt.scatter(preds, y_test)"
   ]
  },
  {
   "cell_type": "code",
   "execution_count": 33,
   "metadata": {},
   "outputs": [],
   "source": [
    "gb = df_clear.groupby(\"region\")"
   ]
  },
  {
   "cell_type": "code",
   "execution_count": 39,
   "metadata": {},
   "outputs": [
    {
     "data": {
      "text/plain": [
       "region\n",
       "ZELAO     33000.000000\n",
       "TAO       40200.000000\n",
       "VAO       47227.000000\n",
       "NAO       48273.684211\n",
       "YVAO      52356.323944\n",
       "YAO       54875.000000\n",
       "AVAO      60412.500000\n",
       "YZAO      60734.543210\n",
       "SZAO      76646.534483\n",
       "ZAO       89586.923077\n",
       "SAO      110310.280374\n",
       "CAO      242230.173529\n",
       "Name: price, dtype: float64"
      ]
     },
     "execution_count": 39,
     "metadata": {},
     "output_type": "execute_result"
    }
   ],
   "source": [
    "gb[\"price\"].mean().sort_values()"
   ]
  },
  {
   "cell_type": "code",
   "execution_count": 41,
   "metadata": {},
   "outputs": [],
   "source": [
    "X = df_final.drop(\"area\", axis=1)\n",
    "y = df_final[\"area\"]\n",
    "\n",
    "X_train, X_test, y_train, y_test = train_test_split(X, y, train_size=0.8)"
   ]
  },
  {
   "cell_type": "code",
   "execution_count": 42,
   "metadata": {},
   "outputs": [],
   "source": [
    "cat_area = CatBoostRegressor(learning_rate=0.5, iterations=20, max_depth=7)"
   ]
  },
  {
   "cell_type": "code",
   "execution_count": 43,
   "metadata": {},
   "outputs": [
    {
     "name": "stdout",
     "output_type": "stream",
     "text": [
      "0:\tlearn: 21.9246011\ttotal: 4.31ms\tremaining: 81.9ms\n",
      "1:\tlearn: 18.5789892\ttotal: 8.49ms\tremaining: 76.4ms\n",
      "2:\tlearn: 18.0828377\ttotal: 9.34ms\tremaining: 52.9ms\n",
      "3:\tlearn: 15.9769984\ttotal: 13.3ms\tremaining: 53.1ms\n",
      "4:\tlearn: 14.8580014\ttotal: 16.9ms\tremaining: 50.8ms\n",
      "5:\tlearn: 14.3386307\ttotal: 20.4ms\tremaining: 47.6ms\n",
      "6:\tlearn: 13.9042971\ttotal: 23.5ms\tremaining: 43.6ms\n",
      "7:\tlearn: 13.7201841\ttotal: 24.5ms\tremaining: 36.8ms\n",
      "8:\tlearn: 13.3048315\ttotal: 27.9ms\tremaining: 34.2ms\n",
      "9:\tlearn: 12.9168508\ttotal: 31.2ms\tremaining: 31.2ms\n",
      "10:\tlearn: 12.4449841\ttotal: 34.7ms\tremaining: 28.4ms\n",
      "11:\tlearn: 12.3073620\ttotal: 38ms\tremaining: 25.4ms\n",
      "12:\tlearn: 12.1443837\ttotal: 41.2ms\tremaining: 22.2ms\n",
      "13:\tlearn: 11.4576799\ttotal: 44.4ms\tremaining: 19ms\n",
      "14:\tlearn: 11.3311182\ttotal: 47.5ms\tremaining: 15.8ms\n",
      "15:\tlearn: 11.2647576\ttotal: 48.8ms\tremaining: 12.2ms\n",
      "16:\tlearn: 10.9770480\ttotal: 51ms\tremaining: 8.99ms\n",
      "17:\tlearn: 10.5647876\ttotal: 53.3ms\tremaining: 5.92ms\n",
      "18:\tlearn: 10.3888606\ttotal: 55.3ms\tremaining: 2.91ms\n",
      "19:\tlearn: 10.2876767\ttotal: 57.1ms\tremaining: 0us\n"
     ]
    },
    {
     "data": {
      "text/plain": [
       "<catboost.core.CatBoostRegressor at 0x7f4e7dba1ac0>"
      ]
     },
     "execution_count": 43,
     "metadata": {},
     "output_type": "execute_result"
    }
   ],
   "source": [
    "cat_area.fit(X_train, y_train)"
   ]
  },
  {
   "cell_type": "code",
   "execution_count": 44,
   "metadata": {},
   "outputs": [],
   "source": [
    "preds_area = cat_area.predict(X_test)"
   ]
  },
  {
   "cell_type": "code",
   "execution_count": 50,
   "metadata": {},
   "outputs": [
    {
     "data": {
      "text/plain": [
       "(33.836429631783936, 36.0)"
      ]
     },
     "execution_count": 50,
     "metadata": {},
     "output_type": "execute_result"
    }
   ],
   "source": [
    "preds_area[55], y_test.iloc[55,]"
   ]
  },
  {
   "cell_type": "code",
   "execution_count": 51,
   "metadata": {},
   "outputs": [
    {
     "data": {
      "text/plain": [
       "<matplotlib.collections.PathCollection at 0x7f4e7ffac9a0>"
      ]
     },
     "execution_count": 51,
     "metadata": {},
     "output_type": "execute_result"
    },
    {
     "data": {
      "image/png": "[encoded data removed]",
      "text/plain": [
       "<Figure size 720x720 with 1 Axes>"
      ]
     },
     "metadata": {
      "needs_background": "light"
     },
     "output_type": "display_data"
    }
   ],
   "source": [
    "fig = plt.figure(figsize=(10, 10))\n",
    "plt.scatter(preds_area, y_test)"
   ]
  },
  {
   "cell_type": "code",
   "execution_count": null,
   "metadata": {},
   "outputs": [],
   "source": []
  }
 ],
 "metadata": {
  "kernelspec": {
   "display_name": "Python 3 (ipykernel)",
   "language": "python",
   "name": "python3"
  },
  "language_info": {
   "codemirror_mode": {
    "name": "ipython",
    "version": 3
   },
   "file_extension": ".py",
   "mimetype": "text/x-python",
   "name": "python",
   "nbconvert_exporter": "python",
   "pygments_lexer": "ipython3",
   "version": "3.8.8"
  }
 },
 "nbformat": 4,
 "nbformat_minor": 2
}
