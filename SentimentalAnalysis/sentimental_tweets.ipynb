{
  "nbformat": 4,
  "nbformat_minor": 0,
  "metadata": {
    "colab": {
      "name": "sentimental_tweets.ipynb",
      "provenance": []
    },
    "kernelspec": {
      "name": "python3",
      "display_name": "Python 3"
    },
    "language_info": {
      "name": "python"
    }
  },
  "cells": [
    {
      "cell_type": "code",
      "execution_count": null,
      "metadata": {
        "colab": {
          "base_uri": "https://localhost:8080/"
        },
        "id": "V7AaOSJKzeNq",
        "outputId": "7ac1be79-49af-478e-e6fa-da879662af24"
      },
      "outputs": [
        {
          "output_type": "stream",
          "name": "stdout",
          "text": [
            "Collecting tensorflow-text\n",
            "  Downloading tensorflow_text-2.7.3-cp37-cp37m-manylinux2010_x86_64.whl (4.9 MB)\n",
            "\u001b[K     |████████████████████████████████| 4.9 MB 4.8 MB/s \n",
            "\u001b[?25hRequirement already satisfied: tensorflow-hub>=0.8.0 in /usr/local/lib/python3.7/dist-packages (from tensorflow-text) (0.12.0)\n",
            "Requirement already satisfied: tensorflow<2.8,>=2.7.0 in /usr/local/lib/python3.7/dist-packages (from tensorflow-text) (2.7.0)\n",
            "Requirement already satisfied: libclang>=9.0.1 in /usr/local/lib/python3.7/dist-packages (from tensorflow<2.8,>=2.7.0->tensorflow-text) (12.0.0)\n",
            "Requirement already satisfied: keras-preprocessing>=1.1.1 in /usr/local/lib/python3.7/dist-packages (from tensorflow<2.8,>=2.7.0->tensorflow-text) (1.1.2)\n",
            "Requirement already satisfied: typing-extensions>=3.6.6 in /usr/local/lib/python3.7/dist-packages (from tensorflow<2.8,>=2.7.0->tensorflow-text) (3.10.0.2)\n",
            "Requirement already satisfied: numpy>=1.14.5 in /usr/local/lib/python3.7/dist-packages (from tensorflow<2.8,>=2.7.0->tensorflow-text) (1.19.5)\n",
            "Requirement already satisfied: h5py>=2.9.0 in /usr/local/lib/python3.7/dist-packages (from tensorflow<2.8,>=2.7.0->tensorflow-text) (3.1.0)\n",
            "Requirement already satisfied: termcolor>=1.1.0 in /usr/local/lib/python3.7/dist-packages (from tensorflow<2.8,>=2.7.0->tensorflow-text) (1.1.0)\n",
            "Requirement already satisfied: tensorflow-estimator<2.8,~=2.7.0rc0 in /usr/local/lib/python3.7/dist-packages (from tensorflow<2.8,>=2.7.0->tensorflow-text) (2.7.0)\n",
            "Requirement already satisfied: tensorboard~=2.6 in /usr/local/lib/python3.7/dist-packages (from tensorflow<2.8,>=2.7.0->tensorflow-text) (2.7.0)\n",
            "Requirement already satisfied: gast<0.5.0,>=0.2.1 in /usr/local/lib/python3.7/dist-packages (from tensorflow<2.8,>=2.7.0->tensorflow-text) (0.4.0)\n",
            "Requirement already satisfied: flatbuffers<3.0,>=1.12 in /usr/local/lib/python3.7/dist-packages (from tensorflow<2.8,>=2.7.0->tensorflow-text) (2.0)\n",
            "Requirement already satisfied: keras<2.8,>=2.7.0rc0 in /usr/local/lib/python3.7/dist-packages (from tensorflow<2.8,>=2.7.0->tensorflow-text) (2.7.0)\n",
            "Requirement already satisfied: protobuf>=3.9.2 in /usr/local/lib/python3.7/dist-packages (from tensorflow<2.8,>=2.7.0->tensorflow-text) (3.17.3)\n",
            "Requirement already satisfied: google-pasta>=0.1.1 in /usr/local/lib/python3.7/dist-packages (from tensorflow<2.8,>=2.7.0->tensorflow-text) (0.2.0)\n",
            "Requirement already satisfied: six>=1.12.0 in /usr/local/lib/python3.7/dist-packages (from tensorflow<2.8,>=2.7.0->tensorflow-text) (1.15.0)\n",
            "Requirement already satisfied: grpcio<2.0,>=1.24.3 in /usr/local/lib/python3.7/dist-packages (from tensorflow<2.8,>=2.7.0->tensorflow-text) (1.43.0)\n",
            "Requirement already satisfied: wrapt>=1.11.0 in /usr/local/lib/python3.7/dist-packages (from tensorflow<2.8,>=2.7.0->tensorflow-text) (1.13.3)\n",
            "Requirement already satisfied: absl-py>=0.4.0 in /usr/local/lib/python3.7/dist-packages (from tensorflow<2.8,>=2.7.0->tensorflow-text) (0.12.0)\n",
            "Requirement already satisfied: astunparse>=1.6.0 in /usr/local/lib/python3.7/dist-packages (from tensorflow<2.8,>=2.7.0->tensorflow-text) (1.6.3)\n",
            "Requirement already satisfied: wheel<1.0,>=0.32.0 in /usr/local/lib/python3.7/dist-packages (from tensorflow<2.8,>=2.7.0->tensorflow-text) (0.37.1)\n",
            "Requirement already satisfied: tensorflow-io-gcs-filesystem>=0.21.0 in /usr/local/lib/python3.7/dist-packages (from tensorflow<2.8,>=2.7.0->tensorflow-text) (0.23.1)\n",
            "Requirement already satisfied: opt-einsum>=2.3.2 in /usr/local/lib/python3.7/dist-packages (from tensorflow<2.8,>=2.7.0->tensorflow-text) (3.3.0)\n",
            "Requirement already satisfied: cached-property in /usr/local/lib/python3.7/dist-packages (from h5py>=2.9.0->tensorflow<2.8,>=2.7.0->tensorflow-text) (1.5.2)\n",
            "Requirement already satisfied: markdown>=2.6.8 in /usr/local/lib/python3.7/dist-packages (from tensorboard~=2.6->tensorflow<2.8,>=2.7.0->tensorflow-text) (3.3.6)\n",
            "Requirement already satisfied: werkzeug>=0.11.15 in /usr/local/lib/python3.7/dist-packages (from tensorboard~=2.6->tensorflow<2.8,>=2.7.0->tensorflow-text) (1.0.1)\n",
            "Requirement already satisfied: setuptools>=41.0.0 in /usr/local/lib/python3.7/dist-packages (from tensorboard~=2.6->tensorflow<2.8,>=2.7.0->tensorflow-text) (57.4.0)\n",
            "Requirement already satisfied: requests<3,>=2.21.0 in /usr/local/lib/python3.7/dist-packages (from tensorboard~=2.6->tensorflow<2.8,>=2.7.0->tensorflow-text) (2.23.0)\n",
            "Requirement already satisfied: tensorboard-data-server<0.7.0,>=0.6.0 in /usr/local/lib/python3.7/dist-packages (from tensorboard~=2.6->tensorflow<2.8,>=2.7.0->tensorflow-text) (0.6.1)\n",
            "Requirement already satisfied: tensorboard-plugin-wit>=1.6.0 in /usr/local/lib/python3.7/dist-packages (from tensorboard~=2.6->tensorflow<2.8,>=2.7.0->tensorflow-text) (1.8.1)\n",
            "Requirement already satisfied: google-auth<3,>=1.6.3 in /usr/local/lib/python3.7/dist-packages (from tensorboard~=2.6->tensorflow<2.8,>=2.7.0->tensorflow-text) (1.35.0)\n",
            "Requirement already satisfied: google-auth-oauthlib<0.5,>=0.4.1 in /usr/local/lib/python3.7/dist-packages (from tensorboard~=2.6->tensorflow<2.8,>=2.7.0->tensorflow-text) (0.4.6)\n",
            "Requirement already satisfied: rsa<5,>=3.1.4 in /usr/local/lib/python3.7/dist-packages (from google-auth<3,>=1.6.3->tensorboard~=2.6->tensorflow<2.8,>=2.7.0->tensorflow-text) (4.8)\n",
            "Requirement already satisfied: cachetools<5.0,>=2.0.0 in /usr/local/lib/python3.7/dist-packages (from google-auth<3,>=1.6.3->tensorboard~=2.6->tensorflow<2.8,>=2.7.0->tensorflow-text) (4.2.4)\n",
            "Requirement already satisfied: pyasn1-modules>=0.2.1 in /usr/local/lib/python3.7/dist-packages (from google-auth<3,>=1.6.3->tensorboard~=2.6->tensorflow<2.8,>=2.7.0->tensorflow-text) (0.2.8)\n",
            "Requirement already satisfied: requests-oauthlib>=0.7.0 in /usr/local/lib/python3.7/dist-packages (from google-auth-oauthlib<0.5,>=0.4.1->tensorboard~=2.6->tensorflow<2.8,>=2.7.0->tensorflow-text) (1.3.0)\n",
            "Requirement already satisfied: importlib-metadata>=4.4 in /usr/local/lib/python3.7/dist-packages (from markdown>=2.6.8->tensorboard~=2.6->tensorflow<2.8,>=2.7.0->tensorflow-text) (4.10.0)\n",
            "Requirement already satisfied: zipp>=0.5 in /usr/local/lib/python3.7/dist-packages (from importlib-metadata>=4.4->markdown>=2.6.8->tensorboard~=2.6->tensorflow<2.8,>=2.7.0->tensorflow-text) (3.7.0)\n",
            "Requirement already satisfied: pyasn1<0.5.0,>=0.4.6 in /usr/local/lib/python3.7/dist-packages (from pyasn1-modules>=0.2.1->google-auth<3,>=1.6.3->tensorboard~=2.6->tensorflow<2.8,>=2.7.0->tensorflow-text) (0.4.8)\n",
            "Requirement already satisfied: certifi>=2017.4.17 in /usr/local/lib/python3.7/dist-packages (from requests<3,>=2.21.0->tensorboard~=2.6->tensorflow<2.8,>=2.7.0->tensorflow-text) (2021.10.8)\n",
            "Requirement already satisfied: chardet<4,>=3.0.2 in /usr/local/lib/python3.7/dist-packages (from requests<3,>=2.21.0->tensorboard~=2.6->tensorflow<2.8,>=2.7.0->tensorflow-text) (3.0.4)\n",
            "Requirement already satisfied: idna<3,>=2.5 in /usr/local/lib/python3.7/dist-packages (from requests<3,>=2.21.0->tensorboard~=2.6->tensorflow<2.8,>=2.7.0->tensorflow-text) (2.10)\n",
            "Requirement already satisfied: urllib3!=1.25.0,!=1.25.1,<1.26,>=1.21.1 in /usr/local/lib/python3.7/dist-packages (from requests<3,>=2.21.0->tensorboard~=2.6->tensorflow<2.8,>=2.7.0->tensorflow-text) (1.24.3)\n",
            "Requirement already satisfied: oauthlib>=3.0.0 in /usr/local/lib/python3.7/dist-packages (from requests-oauthlib>=0.7.0->google-auth-oauthlib<0.5,>=0.4.1->tensorboard~=2.6->tensorflow<2.8,>=2.7.0->tensorflow-text) (3.1.1)\n",
            "Installing collected packages: tensorflow-text\n",
            "Successfully installed tensorflow-text-2.7.3\n"
          ]
        }
      ],
      "source": [
        "!pip install tensorflow-text"
      ]
    },
    {
      "cell_type": "code",
      "source": [
        "import tensorflow as tf\n",
        "import tensorflow_hub as hub\n",
        "import tensorflow_text as text"
      ],
      "metadata": {
        "id": "Pt9p3cBiznTO"
      },
      "execution_count": null,
      "outputs": []
    },
    {
      "cell_type": "code",
      "source": [
        "from tensorflow import keras"
      ],
      "metadata": {
        "id": "9byxLQ1u3w9k"
      },
      "execution_count": null,
      "outputs": []
    },
    {
      "cell_type": "code",
      "source": [
        "import pandas as pd"
      ],
      "metadata": {
        "id": "vocm6kmEzyGg"
      },
      "execution_count": null,
      "outputs": []
    },
    {
      "cell_type": "code",
      "source": [
        "from google.colab import files\n",
        "uploaded = files.upload()"
      ],
      "metadata": {
        "colab": {
          "resources": {
            "http://localhost:8080/nbextensions/google.colab/files.js": {
              "data": "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",
              "ok": true,
              "headers": [
                [
                  "content-type",
                  "application/javascript"
                ]
              ],
              "status": 200,
              "status_text": ""
            }
          },
          "base_uri": "https://localhost:8080/",
          "height": 73
        },
        "id": "ysK6iIi7zymU",
        "outputId": "55a0077a-3add-4773-dc19-1767276346d9"
      },
      "execution_count": null,
      "outputs": [
        {
          "output_type": "display_data",
          "data": {
            "text/html": [
              "\n",
              "     <input type=\"file\" id=\"files-cbc1f7ca-dace-4605-b0a3-a3b31a3189e1\" name=\"files[]\" multiple disabled\n",
              "        style=\"border:none\" />\n",
              "     <output id=\"result-cbc1f7ca-dace-4605-b0a3-a3b31a3189e1\">\n",
              "      Upload widget is only available when the cell has been executed in the\n",
              "      current browser session. Please rerun this cell to enable.\n",
              "      </output>\n",
              "      <script src=\"/nbextensions/google.colab/files.js\"></script> "
            ],
            "text/plain": [
              "<IPython.core.display.HTML object>"
            ]
          },
          "metadata": {}
        },
        {
          "output_type": "stream",
          "name": "stdout",
          "text": [
            "Saving all-data.csv to all-data.csv\n"
          ]
        }
      ]
    },
    {
      "cell_type": "code",
      "source": [
        "import io\n",
        "df = pd.read_csv(io.BytesIO(uploaded['all-data.csv']), encoding='latin_1', header=None)"
      ],
      "metadata": {
        "id": "da1nl6UNzyo8"
      },
      "execution_count": null,
      "outputs": []
    },
    {
      "cell_type": "code",
      "source": [
        "df.head()"
      ],
      "metadata": {
        "colab": {
          "base_uri": "https://localhost:8080/",
          "height": 206
        },
        "id": "L3eBuc2Qzyr2",
        "outputId": "0b6d42ea-978e-4b2c-d5f0-622ee5ed6b36"
      },
      "execution_count": null,
      "outputs": [
        {
          "output_type": "execute_result",
          "data": {
            "text/html": [
              "\n",
              "  <div id=\"df-0793da4c-1b70-407d-9c22-9d58506b5fc2\">\n",
              "    <div class=\"colab-df-container\">\n",
              "      <div>\n",
              "<style scoped>\n",
              "    .dataframe tbody tr th:only-of-type {\n",
              "        vertical-align: middle;\n",
              "    }\n",
              "\n",
              "    .dataframe tbody tr th {\n",
              "        vertical-align: top;\n",
              "    }\n",
              "\n",
              "    .dataframe thead th {\n",
              "        text-align: right;\n",
              "    }\n",
              "</style>\n",
              "<table border=\"1\" class=\"dataframe\">\n",
              "  <thead>\n",
              "    <tr style=\"text-align: right;\">\n",
              "      <th></th>\n",
              "      <th>0</th>\n",
              "      <th>1</th>\n",
              "    </tr>\n",
              "  </thead>\n",
              "  <tbody>\n",
              "    <tr>\n",
              "      <th>0</th>\n",
              "      <td>neutral</td>\n",
              "      <td>According to Gran , the company has no plans t...</td>\n",
              "    </tr>\n",
              "    <tr>\n",
              "      <th>1</th>\n",
              "      <td>neutral</td>\n",
              "      <td>Technopolis plans to develop in stages an area...</td>\n",
              "    </tr>\n",
              "    <tr>\n",
              "      <th>2</th>\n",
              "      <td>negative</td>\n",
              "      <td>The international electronic industry company ...</td>\n",
              "    </tr>\n",
              "    <tr>\n",
              "      <th>3</th>\n",
              "      <td>positive</td>\n",
              "      <td>With the new production plant the company woul...</td>\n",
              "    </tr>\n",
              "    <tr>\n",
              "      <th>4</th>\n",
              "      <td>positive</td>\n",
              "      <td>According to the company 's updated strategy f...</td>\n",
              "    </tr>\n",
              "  </tbody>\n",
              "</table>\n",
              "</div>\n",
              "      <button class=\"colab-df-convert\" onclick=\"convertToInteractive('df-0793da4c-1b70-407d-9c22-9d58506b5fc2')\"\n",
              "              title=\"Convert this dataframe to an interactive table.\"\n",
              "              style=\"display:none;\">\n",
              "        \n",
              "  <svg xmlns=\"http://www.w3.org/2000/svg\" height=\"24px\"viewBox=\"0 0 24 24\"\n",
              "       width=\"24px\">\n",
              "    <path d=\"M0 0h24v24H0V0z\" fill=\"none\"/>\n",
              "    <path d=\"M18.56 5.44l.94 2.06.94-2.06 2.06-.94-2.06-.94-.94-2.06-.94 2.06-2.06.94zm-11 1L8.5 8.5l.94-2.06 2.06-.94-2.06-.94L8.5 2.5l-.94 2.06-2.06.94zm10 10l.94 2.06.94-2.06 2.06-.94-2.06-.94-.94-2.06-.94 2.06-2.06.94z\"/><path d=\"M17.41 7.96l-1.37-1.37c-.4-.4-.92-.59-1.43-.59-.52 0-1.04.2-1.43.59L10.3 9.45l-7.72 7.72c-.78.78-.78 2.05 0 2.83L4 21.41c.39.39.9.59 1.41.59.51 0 1.02-.2 1.41-.59l7.78-7.78 2.81-2.81c.8-.78.8-2.07 0-2.86zM5.41 20L4 18.59l7.72-7.72 1.47 1.35L5.41 20z\"/>\n",
              "  </svg>\n",
              "      </button>\n",
              "      \n",
              "  <style>\n",
              "    .colab-df-container {\n",
              "      display:flex;\n",
              "      flex-wrap:wrap;\n",
              "      gap: 12px;\n",
              "    }\n",
              "\n",
              "    .colab-df-convert {\n",
              "      background-color: #E8F0FE;\n",
              "      border: none;\n",
              "      border-radius: 50%;\n",
              "      cursor: pointer;\n",
              "      display: none;\n",
              "      fill: #1967D2;\n",
              "      height: 32px;\n",
              "      padding: 0 0 0 0;\n",
              "      width: 32px;\n",
              "    }\n",
              "\n",
              "    .colab-df-convert:hover {\n",
              "      background-color: #E2EBFA;\n",
              "      box-shadow: 0px 1px 2px rgba(60, 64, 67, 0.3), 0px 1px 3px 1px rgba(60, 64, 67, 0.15);\n",
              "      fill: #174EA6;\n",
              "    }\n",
              "\n",
              "    [theme=dark] .colab-df-convert {\n",
              "      background-color: #3B4455;\n",
              "      fill: #D2E3FC;\n",
              "    }\n",
              "\n",
              "    [theme=dark] .colab-df-convert:hover {\n",
              "      background-color: #434B5C;\n",
              "      box-shadow: 0px 1px 3px 1px rgba(0, 0, 0, 0.15);\n",
              "      filter: drop-shadow(0px 1px 2px rgba(0, 0, 0, 0.3));\n",
              "      fill: #FFFFFF;\n",
              "    }\n",
              "  </style>\n",
              "\n",
              "      <script>\n",
              "        const buttonEl =\n",
              "          document.querySelector('#df-0793da4c-1b70-407d-9c22-9d58506b5fc2 button.colab-df-convert');\n",
              "        buttonEl.style.display =\n",
              "          google.colab.kernel.accessAllowed ? 'block' : 'none';\n",
              "\n",
              "        async function convertToInteractive(key) {\n",
              "          const element = document.querySelector('#df-0793da4c-1b70-407d-9c22-9d58506b5fc2');\n",
              "          const dataTable =\n",
              "            await google.colab.kernel.invokeFunction('convertToInteractive',\n",
              "                                                     [key], {});\n",
              "          if (!dataTable) return;\n",
              "\n",
              "          const docLinkHtml = 'Like what you see? Visit the ' +\n",
              "            '<a target=\"_blank\" href=https://colab.research.google.com/notebooks/data_table.ipynb>data table notebook</a>'\n",
              "            + ' to learn more about interactive tables.';\n",
              "          element.innerHTML = '';\n",
              "          dataTable['output_type'] = 'display_data';\n",
              "          await google.colab.output.renderOutput(dataTable, element);\n",
              "          const docLink = document.createElement('div');\n",
              "          docLink.innerHTML = docLinkHtml;\n",
              "          element.appendChild(docLink);\n",
              "        }\n",
              "      </script>\n",
              "    </div>\n",
              "  </div>\n",
              "  "
            ],
            "text/plain": [
              "          0                                                  1\n",
              "0   neutral  According to Gran , the company has no plans t...\n",
              "1   neutral  Technopolis plans to develop in stages an area...\n",
              "2  negative  The international electronic industry company ...\n",
              "3  positive  With the new production plant the company woul...\n",
              "4  positive  According to the company 's updated strategy f..."
            ]
          },
          "metadata": {},
          "execution_count": 12
        }
      ]
    },
    {
      "cell_type": "code",
      "source": [
        "df = df.rename(columns={0: 'sentiment', 1: 'tweet'})\n",
        "df.head()"
      ],
      "metadata": {
        "colab": {
          "base_uri": "https://localhost:8080/",
          "height": 206
        },
        "id": "lXj4Bqtuzyub",
        "outputId": "12e36ed5-f4aa-40c0-f045-34a77755280e"
      },
      "execution_count": null,
      "outputs": [
        {
          "output_type": "execute_result",
          "data": {
            "text/html": [
              "\n",
              "  <div id=\"df-ce08c7d3-79c8-405b-a733-0cf888a9e5da\">\n",
              "    <div class=\"colab-df-container\">\n",
              "      <div>\n",
              "<style scoped>\n",
              "    .dataframe tbody tr th:only-of-type {\n",
              "        vertical-align: middle;\n",
              "    }\n",
              "\n",
              "    .dataframe tbody tr th {\n",
              "        vertical-align: top;\n",
              "    }\n",
              "\n",
              "    .dataframe thead th {\n",
              "        text-align: right;\n",
              "    }\n",
              "</style>\n",
              "<table border=\"1\" class=\"dataframe\">\n",
              "  <thead>\n",
              "    <tr style=\"text-align: right;\">\n",
              "      <th></th>\n",
              "      <th>sentiment</th>\n",
              "      <th>tweet</th>\n",
              "    </tr>\n",
              "  </thead>\n",
              "  <tbody>\n",
              "    <tr>\n",
              "      <th>0</th>\n",
              "      <td>neutral</td>\n",
              "      <td>According to Gran , the company has no plans t...</td>\n",
              "    </tr>\n",
              "    <tr>\n",
              "      <th>1</th>\n",
              "      <td>neutral</td>\n",
              "      <td>Technopolis plans to develop in stages an area...</td>\n",
              "    </tr>\n",
              "    <tr>\n",
              "      <th>2</th>\n",
              "      <td>negative</td>\n",
              "      <td>The international electronic industry company ...</td>\n",
              "    </tr>\n",
              "    <tr>\n",
              "      <th>3</th>\n",
              "      <td>positive</td>\n",
              "      <td>With the new production plant the company woul...</td>\n",
              "    </tr>\n",
              "    <tr>\n",
              "      <th>4</th>\n",
              "      <td>positive</td>\n",
              "      <td>According to the company 's updated strategy f...</td>\n",
              "    </tr>\n",
              "  </tbody>\n",
              "</table>\n",
              "</div>\n",
              "      <button class=\"colab-df-convert\" onclick=\"convertToInteractive('df-ce08c7d3-79c8-405b-a733-0cf888a9e5da')\"\n",
              "              title=\"Convert this dataframe to an interactive table.\"\n",
              "              style=\"display:none;\">\n",
              "        \n",
              "  <svg xmlns=\"http://www.w3.org/2000/svg\" height=\"24px\"viewBox=\"0 0 24 24\"\n",
              "       width=\"24px\">\n",
              "    <path d=\"M0 0h24v24H0V0z\" fill=\"none\"/>\n",
              "    <path d=\"M18.56 5.44l.94 2.06.94-2.06 2.06-.94-2.06-.94-.94-2.06-.94 2.06-2.06.94zm-11 1L8.5 8.5l.94-2.06 2.06-.94-2.06-.94L8.5 2.5l-.94 2.06-2.06.94zm10 10l.94 2.06.94-2.06 2.06-.94-2.06-.94-.94-2.06-.94 2.06-2.06.94z\"/><path d=\"M17.41 7.96l-1.37-1.37c-.4-.4-.92-.59-1.43-.59-.52 0-1.04.2-1.43.59L10.3 9.45l-7.72 7.72c-.78.78-.78 2.05 0 2.83L4 21.41c.39.39.9.59 1.41.59.51 0 1.02-.2 1.41-.59l7.78-7.78 2.81-2.81c.8-.78.8-2.07 0-2.86zM5.41 20L4 18.59l7.72-7.72 1.47 1.35L5.41 20z\"/>\n",
              "  </svg>\n",
              "      </button>\n",
              "      \n",
              "  <style>\n",
              "    .colab-df-container {\n",
              "      display:flex;\n",
              "      flex-wrap:wrap;\n",
              "      gap: 12px;\n",
              "    }\n",
              "\n",
              "    .colab-df-convert {\n",
              "      background-color: #E8F0FE;\n",
              "      border: none;\n",
              "      border-radius: 50%;\n",
              "      cursor: pointer;\n",
              "      display: none;\n",
              "      fill: #1967D2;\n",
              "      height: 32px;\n",
              "      padding: 0 0 0 0;\n",
              "      width: 32px;\n",
              "    }\n",
              "\n",
              "    .colab-df-convert:hover {\n",
              "      background-color: #E2EBFA;\n",
              "      box-shadow: 0px 1px 2px rgba(60, 64, 67, 0.3), 0px 1px 3px 1px rgba(60, 64, 67, 0.15);\n",
              "      fill: #174EA6;\n",
              "    }\n",
              "\n",
              "    [theme=dark] .colab-df-convert {\n",
              "      background-color: #3B4455;\n",
              "      fill: #D2E3FC;\n",
              "    }\n",
              "\n",
              "    [theme=dark] .colab-df-convert:hover {\n",
              "      background-color: #434B5C;\n",
              "      box-shadow: 0px 1px 3px 1px rgba(0, 0, 0, 0.15);\n",
              "      filter: drop-shadow(0px 1px 2px rgba(0, 0, 0, 0.3));\n",
              "      fill: #FFFFFF;\n",
              "    }\n",
              "  </style>\n",
              "\n",
              "      <script>\n",
              "        const buttonEl =\n",
              "          document.querySelector('#df-ce08c7d3-79c8-405b-a733-0cf888a9e5da button.colab-df-convert');\n",
              "        buttonEl.style.display =\n",
              "          google.colab.kernel.accessAllowed ? 'block' : 'none';\n",
              "\n",
              "        async function convertToInteractive(key) {\n",
              "          const element = document.querySelector('#df-ce08c7d3-79c8-405b-a733-0cf888a9e5da');\n",
              "          const dataTable =\n",
              "            await google.colab.kernel.invokeFunction('convertToInteractive',\n",
              "                                                     [key], {});\n",
              "          if (!dataTable) return;\n",
              "\n",
              "          const docLinkHtml = 'Like what you see? Visit the ' +\n",
              "            '<a target=\"_blank\" href=https://colab.research.google.com/notebooks/data_table.ipynb>data table notebook</a>'\n",
              "            + ' to learn more about interactive tables.';\n",
              "          element.innerHTML = '';\n",
              "          dataTable['output_type'] = 'display_data';\n",
              "          await google.colab.output.renderOutput(dataTable, element);\n",
              "          const docLink = document.createElement('div');\n",
              "          docLink.innerHTML = docLinkHtml;\n",
              "          element.appendChild(docLink);\n",
              "        }\n",
              "      </script>\n",
              "    </div>\n",
              "  </div>\n",
              "  "
            ],
            "text/plain": [
              "  sentiment                                              tweet\n",
              "0   neutral  According to Gran , the company has no plans t...\n",
              "1   neutral  Technopolis plans to develop in stages an area...\n",
              "2  negative  The international electronic industry company ...\n",
              "3  positive  With the new production plant the company woul...\n",
              "4  positive  According to the company 's updated strategy f..."
            ]
          },
          "metadata": {},
          "execution_count": 14
        }
      ]
    },
    {
      "cell_type": "code",
      "source": [
        "df.shape"
      ],
      "metadata": {
        "colab": {
          "base_uri": "https://localhost:8080/"
        },
        "id": "WBi9PWkrzyxZ",
        "outputId": "e1c982de-d0d4-4006-c432-22ee410e6433"
      },
      "execution_count": null,
      "outputs": [
        {
          "output_type": "execute_result",
          "data": {
            "text/plain": [
              "(4846, 2)"
            ]
          },
          "metadata": {},
          "execution_count": 16
        }
      ]
    },
    {
      "cell_type": "code",
      "source": [
        "df.isna().sum()"
      ],
      "metadata": {
        "colab": {
          "base_uri": "https://localhost:8080/"
        },
        "id": "FNKo0hVXzyz0",
        "outputId": "f105a8e2-088f-4cbe-c2f1-6643b9098f0f"
      },
      "execution_count": null,
      "outputs": [
        {
          "output_type": "execute_result",
          "data": {
            "text/plain": [
              "sentiment    0\n",
              "tweet        0\n",
              "dtype: int64"
            ]
          },
          "metadata": {},
          "execution_count": 17
        }
      ]
    },
    {
      "cell_type": "code",
      "source": [
        "df.sentiment.value_counts()"
      ],
      "metadata": {
        "colab": {
          "base_uri": "https://localhost:8080/"
        },
        "id": "NLPC8ODVzy2W",
        "outputId": "1b5267a5-9bf9-4ae3-81b7-dcf8f13b1736"
      },
      "execution_count": null,
      "outputs": [
        {
          "output_type": "execute_result",
          "data": {
            "text/plain": [
              "neutral     2879\n",
              "positive    1363\n",
              "negative     604\n",
              "Name: sentiment, dtype: int64"
            ]
          },
          "metadata": {},
          "execution_count": 18
        }
      ]
    },
    {
      "cell_type": "code",
      "source": [
        "df['result'] = df['sentiment'].apply(lambda x: 0 if x == 'neutral' else (1 if x == 'positive' else 2))\n",
        "df.head()"
      ],
      "metadata": {
        "colab": {
          "base_uri": "https://localhost:8080/",
          "height": 206
        },
        "id": "WRDNv_Cyzy4z",
        "outputId": "88a014ca-f9d4-4c4b-ae4b-9174256d7cb1"
      },
      "execution_count": null,
      "outputs": [
        {
          "output_type": "execute_result",
          "data": {
            "text/html": [
              "\n",
              "  <div id=\"df-a9fd7977-804f-4a84-90f7-668040765df9\">\n",
              "    <div class=\"colab-df-container\">\n",
              "      <div>\n",
              "<style scoped>\n",
              "    .dataframe tbody tr th:only-of-type {\n",
              "        vertical-align: middle;\n",
              "    }\n",
              "\n",
              "    .dataframe tbody tr th {\n",
              "        vertical-align: top;\n",
              "    }\n",
              "\n",
              "    .dataframe thead th {\n",
              "        text-align: right;\n",
              "    }\n",
              "</style>\n",
              "<table border=\"1\" class=\"dataframe\">\n",
              "  <thead>\n",
              "    <tr style=\"text-align: right;\">\n",
              "      <th></th>\n",
              "      <th>sentiment</th>\n",
              "      <th>tweet</th>\n",
              "      <th>result</th>\n",
              "    </tr>\n",
              "  </thead>\n",
              "  <tbody>\n",
              "    <tr>\n",
              "      <th>0</th>\n",
              "      <td>neutral</td>\n",
              "      <td>According to Gran , the company has no plans t...</td>\n",
              "      <td>0</td>\n",
              "    </tr>\n",
              "    <tr>\n",
              "      <th>1</th>\n",
              "      <td>neutral</td>\n",
              "      <td>Technopolis plans to develop in stages an area...</td>\n",
              "      <td>0</td>\n",
              "    </tr>\n",
              "    <tr>\n",
              "      <th>2</th>\n",
              "      <td>negative</td>\n",
              "      <td>The international electronic industry company ...</td>\n",
              "      <td>2</td>\n",
              "    </tr>\n",
              "    <tr>\n",
              "      <th>3</th>\n",
              "      <td>positive</td>\n",
              "      <td>With the new production plant the company woul...</td>\n",
              "      <td>1</td>\n",
              "    </tr>\n",
              "    <tr>\n",
              "      <th>4</th>\n",
              "      <td>positive</td>\n",
              "      <td>According to the company 's updated strategy f...</td>\n",
              "      <td>1</td>\n",
              "    </tr>\n",
              "  </tbody>\n",
              "</table>\n",
              "</div>\n",
              "      <button class=\"colab-df-convert\" onclick=\"convertToInteractive('df-a9fd7977-804f-4a84-90f7-668040765df9')\"\n",
              "              title=\"Convert this dataframe to an interactive table.\"\n",
              "              style=\"display:none;\">\n",
              "        \n",
              "  <svg xmlns=\"http://www.w3.org/2000/svg\" height=\"24px\"viewBox=\"0 0 24 24\"\n",
              "       width=\"24px\">\n",
              "    <path d=\"M0 0h24v24H0V0z\" fill=\"none\"/>\n",
              "    <path d=\"M18.56 5.44l.94 2.06.94-2.06 2.06-.94-2.06-.94-.94-2.06-.94 2.06-2.06.94zm-11 1L8.5 8.5l.94-2.06 2.06-.94-2.06-.94L8.5 2.5l-.94 2.06-2.06.94zm10 10l.94 2.06.94-2.06 2.06-.94-2.06-.94-.94-2.06-.94 2.06-2.06.94z\"/><path d=\"M17.41 7.96l-1.37-1.37c-.4-.4-.92-.59-1.43-.59-.52 0-1.04.2-1.43.59L10.3 9.45l-7.72 7.72c-.78.78-.78 2.05 0 2.83L4 21.41c.39.39.9.59 1.41.59.51 0 1.02-.2 1.41-.59l7.78-7.78 2.81-2.81c.8-.78.8-2.07 0-2.86zM5.41 20L4 18.59l7.72-7.72 1.47 1.35L5.41 20z\"/>\n",
              "  </svg>\n",
              "      </button>\n",
              "      \n",
              "  <style>\n",
              "    .colab-df-container {\n",
              "      display:flex;\n",
              "      flex-wrap:wrap;\n",
              "      gap: 12px;\n",
              "    }\n",
              "\n",
              "    .colab-df-convert {\n",
              "      background-color: #E8F0FE;\n",
              "      border: none;\n",
              "      border-radius: 50%;\n",
              "      cursor: pointer;\n",
              "      display: none;\n",
              "      fill: #1967D2;\n",
              "      height: 32px;\n",
              "      padding: 0 0 0 0;\n",
              "      width: 32px;\n",
              "    }\n",
              "\n",
              "    .colab-df-convert:hover {\n",
              "      background-color: #E2EBFA;\n",
              "      box-shadow: 0px 1px 2px rgba(60, 64, 67, 0.3), 0px 1px 3px 1px rgba(60, 64, 67, 0.15);\n",
              "      fill: #174EA6;\n",
              "    }\n",
              "\n",
              "    [theme=dark] .colab-df-convert {\n",
              "      background-color: #3B4455;\n",
              "      fill: #D2E3FC;\n",
              "    }\n",
              "\n",
              "    [theme=dark] .colab-df-convert:hover {\n",
              "      background-color: #434B5C;\n",
              "      box-shadow: 0px 1px 3px 1px rgba(0, 0, 0, 0.15);\n",
              "      filter: drop-shadow(0px 1px 2px rgba(0, 0, 0, 0.3));\n",
              "      fill: #FFFFFF;\n",
              "    }\n",
              "  </style>\n",
              "\n",
              "      <script>\n",
              "        const buttonEl =\n",
              "          document.querySelector('#df-a9fd7977-804f-4a84-90f7-668040765df9 button.colab-df-convert');\n",
              "        buttonEl.style.display =\n",
              "          google.colab.kernel.accessAllowed ? 'block' : 'none';\n",
              "\n",
              "        async function convertToInteractive(key) {\n",
              "          const element = document.querySelector('#df-a9fd7977-804f-4a84-90f7-668040765df9');\n",
              "          const dataTable =\n",
              "            await google.colab.kernel.invokeFunction('convertToInteractive',\n",
              "                                                     [key], {});\n",
              "          if (!dataTable) return;\n",
              "\n",
              "          const docLinkHtml = 'Like what you see? Visit the ' +\n",
              "            '<a target=\"_blank\" href=https://colab.research.google.com/notebooks/data_table.ipynb>data table notebook</a>'\n",
              "            + ' to learn more about interactive tables.';\n",
              "          element.innerHTML = '';\n",
              "          dataTable['output_type'] = 'display_data';\n",
              "          await google.colab.output.renderOutput(dataTable, element);\n",
              "          const docLink = document.createElement('div');\n",
              "          docLink.innerHTML = docLinkHtml;\n",
              "          element.appendChild(docLink);\n",
              "        }\n",
              "      </script>\n",
              "    </div>\n",
              "  </div>\n",
              "  "
            ],
            "text/plain": [
              "  sentiment                                              tweet  result\n",
              "0   neutral  According to Gran , the company has no plans t...       0\n",
              "1   neutral  Technopolis plans to develop in stages an area...       0\n",
              "2  negative  The international electronic industry company ...       2\n",
              "3  positive  With the new production plant the company woul...       1\n",
              "4  positive  According to the company 's updated strategy f...       1"
            ]
          },
          "metadata": {},
          "execution_count": 19
        }
      ]
    },
    {
      "cell_type": "code",
      "source": [
        "answer = pd.get_dummies(df.sentiment)\n",
        "answer.head()"
      ],
      "metadata": {
        "colab": {
          "base_uri": "https://localhost:8080/",
          "height": 206
        },
        "id": "exXfInNZ8Ri_",
        "outputId": "40f79bd5-50b9-4136-f2c1-92691698ba2e"
      },
      "execution_count": null,
      "outputs": [
        {
          "output_type": "execute_result",
          "data": {
            "text/html": [
              "\n",
              "  <div id=\"df-1d220e66-ddd0-484a-a088-88689d9ecb89\">\n",
              "    <div class=\"colab-df-container\">\n",
              "      <div>\n",
              "<style scoped>\n",
              "    .dataframe tbody tr th:only-of-type {\n",
              "        vertical-align: middle;\n",
              "    }\n",
              "\n",
              "    .dataframe tbody tr th {\n",
              "        vertical-align: top;\n",
              "    }\n",
              "\n",
              "    .dataframe thead th {\n",
              "        text-align: right;\n",
              "    }\n",
              "</style>\n",
              "<table border=\"1\" class=\"dataframe\">\n",
              "  <thead>\n",
              "    <tr style=\"text-align: right;\">\n",
              "      <th></th>\n",
              "      <th>negative</th>\n",
              "      <th>neutral</th>\n",
              "      <th>positive</th>\n",
              "    </tr>\n",
              "  </thead>\n",
              "  <tbody>\n",
              "    <tr>\n",
              "      <th>0</th>\n",
              "      <td>0</td>\n",
              "      <td>1</td>\n",
              "      <td>0</td>\n",
              "    </tr>\n",
              "    <tr>\n",
              "      <th>1</th>\n",
              "      <td>0</td>\n",
              "      <td>1</td>\n",
              "      <td>0</td>\n",
              "    </tr>\n",
              "    <tr>\n",
              "      <th>2</th>\n",
              "      <td>1</td>\n",
              "      <td>0</td>\n",
              "      <td>0</td>\n",
              "    </tr>\n",
              "    <tr>\n",
              "      <th>3</th>\n",
              "      <td>0</td>\n",
              "      <td>0</td>\n",
              "      <td>1</td>\n",
              "    </tr>\n",
              "    <tr>\n",
              "      <th>4</th>\n",
              "      <td>0</td>\n",
              "      <td>0</td>\n",
              "      <td>1</td>\n",
              "    </tr>\n",
              "  </tbody>\n",
              "</table>\n",
              "</div>\n",
              "      <button class=\"colab-df-convert\" onclick=\"convertToInteractive('df-1d220e66-ddd0-484a-a088-88689d9ecb89')\"\n",
              "              title=\"Convert this dataframe to an interactive table.\"\n",
              "              style=\"display:none;\">\n",
              "        \n",
              "  <svg xmlns=\"http://www.w3.org/2000/svg\" height=\"24px\"viewBox=\"0 0 24 24\"\n",
              "       width=\"24px\">\n",
              "    <path d=\"M0 0h24v24H0V0z\" fill=\"none\"/>\n",
              "    <path d=\"M18.56 5.44l.94 2.06.94-2.06 2.06-.94-2.06-.94-.94-2.06-.94 2.06-2.06.94zm-11 1L8.5 8.5l.94-2.06 2.06-.94-2.06-.94L8.5 2.5l-.94 2.06-2.06.94zm10 10l.94 2.06.94-2.06 2.06-.94-2.06-.94-.94-2.06-.94 2.06-2.06.94z\"/><path d=\"M17.41 7.96l-1.37-1.37c-.4-.4-.92-.59-1.43-.59-.52 0-1.04.2-1.43.59L10.3 9.45l-7.72 7.72c-.78.78-.78 2.05 0 2.83L4 21.41c.39.39.9.59 1.41.59.51 0 1.02-.2 1.41-.59l7.78-7.78 2.81-2.81c.8-.78.8-2.07 0-2.86zM5.41 20L4 18.59l7.72-7.72 1.47 1.35L5.41 20z\"/>\n",
              "  </svg>\n",
              "      </button>\n",
              "      \n",
              "  <style>\n",
              "    .colab-df-container {\n",
              "      display:flex;\n",
              "      flex-wrap:wrap;\n",
              "      gap: 12px;\n",
              "    }\n",
              "\n",
              "    .colab-df-convert {\n",
              "      background-color: #E8F0FE;\n",
              "      border: none;\n",
              "      border-radius: 50%;\n",
              "      cursor: pointer;\n",
              "      display: none;\n",
              "      fill: #1967D2;\n",
              "      height: 32px;\n",
              "      padding: 0 0 0 0;\n",
              "      width: 32px;\n",
              "    }\n",
              "\n",
              "    .colab-df-convert:hover {\n",
              "      background-color: #E2EBFA;\n",
              "      box-shadow: 0px 1px 2px rgba(60, 64, 67, 0.3), 0px 1px 3px 1px rgba(60, 64, 67, 0.15);\n",
              "      fill: #174EA6;\n",
              "    }\n",
              "\n",
              "    [theme=dark] .colab-df-convert {\n",
              "      background-color: #3B4455;\n",
              "      fill: #D2E3FC;\n",
              "    }\n",
              "\n",
              "    [theme=dark] .colab-df-convert:hover {\n",
              "      background-color: #434B5C;\n",
              "      box-shadow: 0px 1px 3px 1px rgba(0, 0, 0, 0.15);\n",
              "      filter: drop-shadow(0px 1px 2px rgba(0, 0, 0, 0.3));\n",
              "      fill: #FFFFFF;\n",
              "    }\n",
              "  </style>\n",
              "\n",
              "      <script>\n",
              "        const buttonEl =\n",
              "          document.querySelector('#df-1d220e66-ddd0-484a-a088-88689d9ecb89 button.colab-df-convert');\n",
              "        buttonEl.style.display =\n",
              "          google.colab.kernel.accessAllowed ? 'block' : 'none';\n",
              "\n",
              "        async function convertToInteractive(key) {\n",
              "          const element = document.querySelector('#df-1d220e66-ddd0-484a-a088-88689d9ecb89');\n",
              "          const dataTable =\n",
              "            await google.colab.kernel.invokeFunction('convertToInteractive',\n",
              "                                                     [key], {});\n",
              "          if (!dataTable) return;\n",
              "\n",
              "          const docLinkHtml = 'Like what you see? Visit the ' +\n",
              "            '<a target=\"_blank\" href=https://colab.research.google.com/notebooks/data_table.ipynb>data table notebook</a>'\n",
              "            + ' to learn more about interactive tables.';\n",
              "          element.innerHTML = '';\n",
              "          dataTable['output_type'] = 'display_data';\n",
              "          await google.colab.output.renderOutput(dataTable, element);\n",
              "          const docLink = document.createElement('div');\n",
              "          docLink.innerHTML = docLinkHtml;\n",
              "          element.appendChild(docLink);\n",
              "        }\n",
              "      </script>\n",
              "    </div>\n",
              "  </div>\n",
              "  "
            ],
            "text/plain": [
              "   negative  neutral  positive\n",
              "0         0        1         0\n",
              "1         0        1         0\n",
              "2         1        0         0\n",
              "3         0        0         1\n",
              "4         0        0         1"
            ]
          },
          "metadata": {},
          "execution_count": 35
        }
      ]
    },
    {
      "cell_type": "code",
      "source": [
        "y = answer.values\n",
        "y"
      ],
      "metadata": {
        "colab": {
          "base_uri": "https://localhost:8080/"
        },
        "id": "YDm2_tNr8p7i",
        "outputId": "dcd1f711-b691-402e-abe6-2cc85cc2cc4b"
      },
      "execution_count": null,
      "outputs": [
        {
          "output_type": "execute_result",
          "data": {
            "text/plain": [
              "array([[0, 1, 0],\n",
              "       [0, 1, 0],\n",
              "       [1, 0, 0],\n",
              "       ...,\n",
              "       [1, 0, 0],\n",
              "       [1, 0, 0],\n",
              "       [1, 0, 0]], dtype=uint8)"
            ]
          },
          "metadata": {},
          "execution_count": 38
        }
      ]
    },
    {
      "cell_type": "code",
      "source": [
        "from sklearn.model_selection import train_test_split\n",
        "\n",
        "X_train, X_test, y_train, y_test = train_test_split(df['tweet'], y, stratify=y)"
      ],
      "metadata": {
        "id": "_gYjdhLIzy8C"
      },
      "execution_count": null,
      "outputs": []
    },
    {
      "cell_type": "code",
      "source": [
        "bert_prep = hub.KerasLayer('https://tfhub.dev/tensorflow/bert_en_uncased_preprocess/3')\n",
        "bert_model = hub.KerasLayer('https://tfhub.dev/tensorflow/bert_en_uncased_L-12_H-768_A-12/4')"
      ],
      "metadata": {
        "id": "eUC4EPKXzy-1"
      },
      "execution_count": null,
      "outputs": []
    },
    {
      "cell_type": "code",
      "source": [
        "def get_sentence_embeding(sent):\n",
        "  prep_text = bert_prep(sent)\n",
        "  return bert_model(prep_text)['pooled_output']"
      ],
      "metadata": {
        "id": "bFAc3E5Q3Di0"
      },
      "execution_count": null,
      "outputs": []
    },
    {
      "cell_type": "code",
      "source": [
        "get_sentence_embeding(['i like apple'])"
      ],
      "metadata": {
        "colab": {
          "base_uri": "https://localhost:8080/"
        },
        "id": "BN6twPn34CSa",
        "outputId": "eee8fe9f-cb48-4482-9784-b13e670c6b60"
      },
      "execution_count": null,
      "outputs": [
        {
          "output_type": "execute_result",
          "data": {
            "text/plain": [
              "<tf.Tensor: shape=(1, 768), dtype=float32, numpy=\n",
              "array([[-8.71409118e-01, -2.98809022e-01,  9.86819640e-02,\n",
              "         6.81400299e-01,  4.48228009e-02, -1.87569648e-01,\n",
              "         8.89232218e-01,  2.26127639e-01, -7.58772865e-02,\n",
              "        -9.99883473e-01,  1.12313533e-03,  4.08791006e-01,\n",
              "         9.79040682e-01, -6.67450503e-02,  9.33522046e-01,\n",
              "        -6.14859998e-01, -1.24849379e-01, -5.93419492e-01,\n",
              "         3.23982596e-01, -7.23952651e-01,  6.27399325e-01,\n",
              "         9.67094600e-01,  4.52360749e-01,  2.92361081e-01,\n",
              "         4.09323394e-01,  6.12668395e-01, -6.06403768e-01,\n",
              "         9.21502054e-01,  9.39320385e-01,  6.63750648e-01,\n",
              "        -6.82503164e-01,  1.49046138e-01, -9.82890546e-01,\n",
              "        -2.16752842e-01,  7.69138038e-02, -9.84391928e-01,\n",
              "         2.65518337e-01, -7.65734911e-01, -4.11513969e-02,\n",
              "         2.64315084e-02, -8.95289540e-01,  2.95499563e-01,\n",
              "         9.98467267e-01, -2.45845243e-01, -2.57827714e-02,\n",
              "        -3.05424899e-01, -9.99978244e-01,  2.24250585e-01,\n",
              "        -8.56391549e-01,  2.93223169e-02,  1.15054131e-01,\n",
              "        -2.74564356e-01,  1.20964363e-01,  4.00587708e-01,\n",
              "         4.07632858e-01,  3.24055672e-01, -1.46464333e-01,\n",
              "         1.03383303e-01, -1.85893565e-01, -5.53383946e-01,\n",
              "        -6.23005211e-01,  2.70624071e-01, -2.14602575e-01,\n",
              "        -8.77339005e-01, -6.96942881e-02, -2.09495232e-01,\n",
              "        -1.20575033e-01, -2.26627141e-01, -4.73925285e-02,\n",
              "        -3.25867236e-02,  8.34032238e-01,  1.86642975e-01,\n",
              "         2.83137441e-01, -7.96604455e-01, -2.39104152e-01,\n",
              "         2.00228289e-01, -5.35669088e-01,  1.00000000e+00,\n",
              "        -3.70292962e-01, -9.76520777e-01,  1.64145064e-02,\n",
              "        -3.41902412e-02,  3.95029396e-01,  3.82366240e-01,\n",
              "        -3.03608209e-01, -9.99998927e-01,  3.99542511e-01,\n",
              "        -9.10119787e-02, -9.87905264e-01,  2.11520985e-01,\n",
              "         4.01771784e-01, -2.06025213e-01, -2.58030385e-01,\n",
              "         4.78921354e-01, -3.69382560e-01, -1.33877188e-01,\n",
              "        -2.47432679e-01,  4.33619358e-02, -1.58727020e-01,\n",
              "        -6.58975616e-02,  3.42872255e-02, -1.64992198e-01,\n",
              "        -9.93380919e-02, -3.12602192e-01,  1.40754402e-01,\n",
              "        -3.73196423e-01, -4.96484786e-01,  1.20582566e-01,\n",
              "        -6.69861212e-02,  6.54965580e-01,  3.16532582e-01,\n",
              "        -2.63466626e-01,  3.56617689e-01, -9.50437903e-01,\n",
              "         5.95085621e-01, -2.57905960e-01, -9.73812342e-01,\n",
              "        -4.86774296e-01, -9.85979855e-01,  6.75853074e-01,\n",
              "         3.90851907e-02, -2.48931617e-01,  9.53730345e-01,\n",
              "         4.91023064e-01,  3.08864743e-01, -5.32372631e-02,\n",
              "         5.29375933e-02, -1.00000000e+00, -3.50465089e-01,\n",
              "        -8.77114981e-02,  1.81151658e-01, -1.09675094e-01,\n",
              "        -9.70590532e-01, -9.40860927e-01,  5.80502927e-01,\n",
              "         9.41841543e-01,  1.23093821e-01,  9.97671485e-01,\n",
              "        -2.22822547e-01,  9.18704271e-01,  7.00420961e-02,\n",
              "        -1.72256261e-01, -6.48270547e-02, -3.99689734e-01,\n",
              "         3.02601457e-01,  3.33697349e-01, -6.76912129e-01,\n",
              "         2.24571973e-01,  7.17604831e-02,  4.73943278e-02,\n",
              "        -1.15564749e-01, -2.50549197e-01,  1.20892987e-01,\n",
              "        -9.19270396e-01, -3.84940296e-01,  9.32888269e-01,\n",
              "         1.19613282e-01, -4.23394665e-02,  5.54068089e-01,\n",
              "        -1.88531235e-01, -3.76897812e-01,  8.22662711e-01,\n",
              "         2.25668952e-01,  3.10487688e-01, -1.39636651e-01,\n",
              "         3.28828007e-01, -5.70059121e-02,  4.28361923e-01,\n",
              "        -7.95092642e-01,  2.23419443e-01,  3.90240818e-01,\n",
              "        -1.85248345e-01,  1.10094182e-01, -9.72154200e-01,\n",
              "        -2.85392582e-01,  3.72329175e-01,  9.82888043e-01,\n",
              "         6.97885633e-01,  1.92460313e-01,  2.09465742e-01,\n",
              "        -2.13228926e-01,  3.86522204e-01, -9.25573349e-01,\n",
              "         9.73058105e-01, -1.91371545e-01,  2.78753608e-01,\n",
              "         4.43379313e-01, -1.23811938e-01, -8.41547132e-01,\n",
              "        -1.98713303e-01,  7.84946561e-01, -3.21556330e-01,\n",
              "        -8.13289464e-01, -2.31345207e-03, -4.37289000e-01,\n",
              "        -3.95588905e-01, -3.29334028e-02,  4.09003705e-01,\n",
              "        -3.10616374e-01, -3.95359010e-01, -9.18839872e-02,\n",
              "         9.12126124e-01,  9.61821854e-01,  7.65621901e-01,\n",
              "        -4.53864336e-01,  4.96903718e-01, -9.17021930e-01,\n",
              "        -4.71763968e-01,  1.01493068e-01,  2.08178475e-01,\n",
              "         1.72065601e-01,  9.91319835e-01, -1.31871710e-02,\n",
              "        -1.44652918e-01, -9.15938377e-01, -9.81042385e-01,\n",
              "         1.34153594e-03, -8.80721748e-01, -4.80663069e-02,\n",
              "        -5.52094817e-01,  3.06908488e-01,  5.58619082e-01,\n",
              "         7.97690675e-02,  3.78868103e-01, -9.84573424e-01,\n",
              "        -7.80399859e-01,  3.66268903e-01, -2.35802367e-01,\n",
              "         3.54442775e-01, -2.65415609e-01,  4.56505060e-01,\n",
              "         1.77775785e-01, -5.47667623e-01,  8.39098752e-01,\n",
              "         8.50260437e-01,  1.80919528e-01, -6.14147007e-01,\n",
              "         8.04086983e-01, -2.42696628e-01,  8.40012729e-01,\n",
              "        -5.91192424e-01,  9.76283491e-01,  1.72861904e-01,\n",
              "         5.59907138e-01, -9.27302241e-01,  1.45112038e-01,\n",
              "        -9.04857337e-01, -8.26514512e-02, -1.45233080e-01,\n",
              "        -4.85638589e-01,  1.92362249e-01,  4.74987030e-01,\n",
              "         3.33394259e-01,  7.07565725e-01, -4.78634685e-01,\n",
              "         9.95574296e-01, -5.28739214e-01, -9.44221914e-01,\n",
              "         1.58800498e-01, -1.67127222e-01, -9.83351469e-01,\n",
              "         4.64404635e-02,  2.89707541e-01, -5.03197968e-01,\n",
              "        -3.31400663e-01, -3.43186408e-01, -9.50926483e-01,\n",
              "         8.56929541e-01,  1.23944215e-01,  9.82153952e-01,\n",
              "         2.92920992e-02, -9.05573547e-01, -3.66035104e-01,\n",
              "        -8.97099078e-01, -1.30508468e-01, -8.70750472e-02,\n",
              "         4.28174078e-01, -1.76953524e-01, -9.54887986e-01,\n",
              "         4.40926880e-01,  5.24151504e-01,  4.16446447e-01,\n",
              "         2.22551286e-01,  9.96168554e-01,  9.99671102e-01,\n",
              "         9.73258317e-01,  8.52863193e-01,  8.61565650e-01,\n",
              "        -9.27527189e-01, -3.97468992e-02,  9.99942601e-01,\n",
              "        -6.81043625e-01, -9.99995291e-01, -9.26618695e-01,\n",
              "        -6.23657227e-01,  3.34461302e-01, -1.00000000e+00,\n",
              "        -3.52148525e-02, -1.29476923e-03, -9.16568696e-01,\n",
              "        -1.82817996e-01,  9.71446514e-01,  9.88258302e-01,\n",
              "        -1.00000000e+00,  8.25912952e-01,  9.24920797e-01,\n",
              "        -5.43192983e-01,  4.73852485e-01, -1.20140649e-01,\n",
              "         9.64679778e-01,  3.90822113e-01,  4.57192719e-01,\n",
              "        -1.14018776e-01,  3.61843973e-01, -3.76126766e-01,\n",
              "        -8.28456223e-01,  2.69134939e-01,  1.51683778e-01,\n",
              "         6.53498530e-01,  1.45076498e-01, -6.04837000e-01,\n",
              "        -9.20691788e-01, -1.21472545e-01, -1.94415599e-01,\n",
              "        -2.18588665e-01, -9.49348629e-01, -1.51283577e-01,\n",
              "        -2.07929477e-01,  6.51127517e-01,  1.25481501e-01,\n",
              "         1.75662801e-01, -7.78501630e-01,  2.25441009e-01,\n",
              "        -6.10860765e-01,  4.00269061e-01,  5.81281543e-01,\n",
              "        -9.09637928e-01, -6.24426007e-01, -1.27657801e-01,\n",
              "        -4.09425944e-01,  7.61389062e-02, -9.38890934e-01,\n",
              "         9.66654897e-01, -2.85392284e-01,  8.82764012e-02,\n",
              "         1.00000000e+00, -2.62732178e-01, -8.73077691e-01,\n",
              "         3.12508523e-01,  2.11238697e-01, -8.32048431e-02,\n",
              "         9.99999821e-01,  4.33701903e-01, -9.74387169e-01,\n",
              "        -4.35457826e-01,  2.36426041e-01, -4.47589695e-01,\n",
              "        -4.03188616e-01,  9.97785330e-01, -2.45332778e-01,\n",
              "         1.53104126e-01,  3.38727623e-01,  9.70256329e-01,\n",
              "        -9.86452699e-01,  5.48102021e-01, -8.94057393e-01,\n",
              "        -9.54545379e-01,  9.58336473e-01,  9.31858838e-01,\n",
              "        -2.74102002e-01, -5.00875354e-01,  6.83771074e-02,\n",
              "        -1.16540581e-01,  2.58359313e-01, -9.57483411e-01,\n",
              "         5.55799067e-01,  5.07851005e-01, -1.23025239e-01,\n",
              "         8.98360014e-01, -8.34576726e-01, -4.58991230e-01,\n",
              "         3.69688421e-01, -4.52515204e-03,  3.64805758e-01,\n",
              "         7.70875663e-02,  3.97719771e-01, -1.61750302e-01,\n",
              "         7.65869692e-02, -2.87322551e-01, -1.02292277e-01,\n",
              "        -9.62090015e-01, -5.12548164e-02,  9.99999642e-01,\n",
              "         3.26543301e-02, -3.25102448e-01, -3.17591846e-01,\n",
              "        -4.74904887e-02, -2.29968339e-01,  4.15746868e-01,\n",
              "         4.15890396e-01, -2.94678211e-01, -7.83539534e-01,\n",
              "         1.55730508e-02, -9.26125050e-01, -9.82569695e-01,\n",
              "         7.08786011e-01,  2.19341680e-01, -2.87922442e-01,\n",
              "         9.99506712e-01,  2.63897210e-01,  1.59068957e-01,\n",
              "        -3.16193178e-02,  3.53243053e-01, -7.67290294e-02,\n",
              "         5.21524429e-01, -1.55414075e-01,  9.60777640e-01,\n",
              "        -2.67166227e-01,  4.33498859e-01,  8.22765410e-01,\n",
              "        -8.73880088e-02, -3.05180907e-01, -6.09176159e-01,\n",
              "         9.38863978e-02, -8.87932718e-01,  5.22711910e-02,\n",
              "        -9.42940772e-01,  9.50878143e-01, -5.64226061e-02,\n",
              "         3.09076786e-01,  1.24405503e-01, -1.37252182e-01,\n",
              "         1.00000000e+00,  6.74024969e-02,  6.05324209e-01,\n",
              "        -5.94518960e-01,  8.50180328e-01, -9.00384545e-01,\n",
              "        -7.31574655e-01, -3.59469086e-01, -4.23806310e-02,\n",
              "         7.15468004e-02, -2.29385525e-01,  2.38289356e-01,\n",
              "        -9.56966758e-01, -7.68548548e-02, -1.75030902e-04,\n",
              "        -9.78401124e-01, -9.88688111e-01,  3.80329669e-01,\n",
              "         7.34680593e-01,  1.20342679e-01, -4.48610187e-01,\n",
              "        -6.70356870e-01, -5.05380630e-01,  3.24629486e-01,\n",
              "        -1.93399221e-01, -9.30480480e-01,  5.08272052e-01,\n",
              "        -1.94066674e-01,  3.80054742e-01, -1.85608044e-01,\n",
              "         4.63782549e-01, -1.24877557e-01,  7.33312905e-01,\n",
              "         4.86556023e-01,  8.49220902e-02, -3.94486487e-02,\n",
              "        -7.80393898e-01,  7.74603546e-01, -7.62860835e-01,\n",
              "        -2.54133772e-02, -1.21102311e-01,  1.00000000e+00,\n",
              "        -1.86394453e-01,  1.56374022e-01,  6.68599069e-01,\n",
              "         7.01740623e-01, -1.04685277e-01,  2.11195305e-01,\n",
              "        -4.82316241e-02,  1.95867643e-01,  4.66733687e-02,\n",
              "         2.37718090e-01, -7.24353373e-01, -3.08326334e-01,\n",
              "         4.59267288e-01, -3.65392447e-01, -2.19169319e-01,\n",
              "         7.63510942e-01,  6.72970414e-02,  7.06793517e-02,\n",
              "         2.92576570e-02,  5.18828481e-02,  9.98936594e-01,\n",
              "        -1.74809381e-01, -1.34481356e-01, -4.49906170e-01,\n",
              "         1.47583643e-02, -2.99179524e-01, -5.38940668e-01,\n",
              "         9.99997795e-01,  3.08219194e-01, -1.67151138e-01,\n",
              "        -9.88193393e-01,  2.45601218e-02, -8.89953077e-01,\n",
              "         9.98645127e-01,  7.88049400e-01, -8.08849633e-01,\n",
              "         4.60314959e-01,  4.01339382e-01, -1.30217448e-01,\n",
              "         7.45900154e-01, -1.68412492e-01, -2.04079464e-01,\n",
              "         1.18425749e-01,  1.56585097e-01,  9.54289973e-01,\n",
              "        -4.09302682e-01, -9.58321214e-01, -4.90229458e-01,\n",
              "         3.28268737e-01, -9.59722281e-01,  9.37316179e-01,\n",
              "        -4.88321722e-01, -1.27608582e-01, -2.94805795e-01,\n",
              "         2.05713630e-01,  7.58994222e-01, -5.69246337e-02,\n",
              "        -9.77374613e-01, -1.82709828e-01,  6.70597479e-02,\n",
              "         9.58116472e-01,  1.89291596e-01, -4.45089221e-01,\n",
              "        -8.99074316e-01, -2.13725194e-01,  1.54988378e-01,\n",
              "         4.77438830e-02, -9.25133586e-01,  9.66682732e-01,\n",
              "        -9.77782309e-01,  4.29415792e-01,  9.99995470e-01,\n",
              "         2.42068917e-01, -6.02316201e-01,  2.15157688e-01,\n",
              "        -4.23004359e-01,  2.51768321e-01,  4.62762713e-02,\n",
              "         5.05856514e-01, -9.46135938e-01, -3.12242180e-01,\n",
              "        -1.50642708e-01,  2.08781675e-01, -1.48547351e-01,\n",
              "         3.53525758e-01,  5.85076869e-01,  1.70884922e-01,\n",
              "        -4.50911343e-01, -5.39510012e-01, -9.87241566e-02,\n",
              "         3.93917650e-01,  6.96981668e-01, -2.71902829e-01,\n",
              "        -8.26939866e-02,  6.06538616e-02, -1.42586201e-01,\n",
              "        -9.29518282e-01, -2.28373244e-01, -3.10300499e-01,\n",
              "        -9.89280343e-01,  6.08148515e-01, -1.00000000e+00,\n",
              "        -2.54678905e-01, -4.40647066e-01, -2.15486884e-01,\n",
              "         7.70675659e-01,  4.09376472e-02, -1.38180122e-01,\n",
              "        -7.02490687e-01,  6.99776039e-02,  7.44182289e-01,\n",
              "         7.20158458e-01, -2.02494457e-01,  9.31046978e-02,\n",
              "        -6.95668161e-01,  2.00997382e-01, -8.84300172e-02,\n",
              "         2.52294540e-01,  1.41743079e-01,  6.50954425e-01,\n",
              "        -2.28102893e-01,  1.00000000e+00,  9.24958661e-02,\n",
              "        -3.92261654e-01, -9.70220745e-01,  2.48770997e-01,\n",
              "        -2.38138422e-01,  9.99914229e-01, -8.81623089e-01,\n",
              "        -9.45404172e-01,  3.14595670e-01, -4.26543862e-01,\n",
              "        -7.52235532e-01,  1.74365059e-01, -6.99742138e-03,\n",
              "        -6.67530239e-01, -3.02573979e-01,  9.47599173e-01,\n",
              "         8.46387506e-01, -4.36763346e-01,  3.67546409e-01,\n",
              "        -2.72806585e-01, -4.40643191e-01,  7.69165717e-03,\n",
              "        -1.30357191e-01,  9.83625233e-01,  3.55246395e-01,\n",
              "         8.79144132e-01,  5.02563775e-01,  8.44310299e-02,\n",
              "         9.55867290e-01,  1.58590525e-01,  6.02454185e-01,\n",
              "         8.44221935e-02,  9.99997854e-01,  2.90317565e-01,\n",
              "        -9.02647913e-01,  3.05812091e-01, -9.83222544e-01,\n",
              "        -2.13396877e-01, -9.49609399e-01,  2.58342057e-01,\n",
              "         5.17581068e-02,  8.50631356e-01, -2.27156982e-01,\n",
              "         9.51622963e-01,  2.81717420e-01,  8.28668922e-02,\n",
              "         3.20652500e-03,  4.29713696e-01,  3.51832896e-01,\n",
              "        -9.17086303e-01, -9.82531428e-01, -9.83010471e-01,\n",
              "         2.30206877e-01, -4.04191107e-01, -2.94981394e-02,\n",
              "         2.68713683e-01,  1.34750873e-01,  3.63153517e-01,\n",
              "         3.47271383e-01, -9.99994636e-01,  9.21994865e-01,\n",
              "         4.13400769e-01,  1.96090881e-02,  9.57453251e-01,\n",
              "         3.32910508e-01,  1.52757570e-01,  2.13942394e-01,\n",
              "        -9.82347846e-01, -9.64673400e-01, -3.47667575e-01,\n",
              "        -2.36223057e-01,  7.59498477e-01,  4.83566552e-01,\n",
              "         8.16603839e-01,  3.37653756e-01, -4.85459089e-01,\n",
              "        -1.74747258e-01,  2.20759630e-01, -4.01471287e-01,\n",
              "        -9.90764737e-01,  3.76737237e-01,  1.98698729e-01,\n",
              "        -9.56255257e-01,  9.40288782e-01, -4.65770006e-01,\n",
              "        -1.83243513e-01,  5.11843085e-01,  1.32022211e-02,\n",
              "         9.27528918e-01,  7.08850384e-01,  4.94955271e-01,\n",
              "         1.56916261e-01,  4.69835490e-01,  8.73742878e-01,\n",
              "         9.34606612e-01,  9.80977416e-01, -8.22943226e-02,\n",
              "         7.06159353e-01,  8.68420899e-02,  3.59746277e-01,\n",
              "         4.59820688e-01, -9.18304205e-01,  1.05417423e-01,\n",
              "        -7.57087395e-02, -1.89869910e-01,  2.57464528e-01,\n",
              "        -1.99826509e-01, -9.58805680e-01,  1.71028286e-01,\n",
              "        -2.15163872e-01,  4.62630153e-01, -3.57953638e-01,\n",
              "         1.82565585e-01, -4.09806252e-01, -1.83380201e-01,\n",
              "        -6.02705061e-01, -3.85231912e-01,  5.62852263e-01,\n",
              "         3.53743821e-01,  9.11698341e-01,  2.85338491e-01,\n",
              "        -5.47971241e-02, -5.71093678e-01, -1.36483476e-01,\n",
              "         5.72100766e-02, -9.11570430e-01,  9.12302613e-01,\n",
              "        -3.04709915e-02,  2.60871738e-01, -2.34971225e-01,\n",
              "         2.66738962e-02,  4.87681866e-01, -1.71798810e-01,\n",
              "        -3.36045831e-01, -3.02678704e-01, -7.06695795e-01,\n",
              "         8.10760856e-01, -1.09332711e-01, -4.86260086e-01,\n",
              "        -4.50524926e-01,  6.89340293e-01,  3.10211748e-01,\n",
              "         9.77365553e-01, -9.32166055e-02, -2.49916971e-01,\n",
              "        -1.22203693e-01, -2.28921920e-01,  3.26467037e-01,\n",
              "        -2.64735192e-01, -9.99995589e-01,  3.67650181e-01,\n",
              "         8.70383233e-02, -4.29794118e-02, -1.17200240e-01,\n",
              "         1.04563653e-01, -1.12268500e-01, -9.76348460e-01,\n",
              "        -2.16290683e-01, -1.07188374e-02, -1.28235653e-01,\n",
              "        -4.96900976e-01, -4.15848374e-01,  4.76427555e-01,\n",
              "         3.71437818e-01,  4.41768169e-01,  8.59331012e-01,\n",
              "         1.61696583e-01,  4.97424275e-01,  5.62359691e-01,\n",
              "         1.27231672e-01, -6.32153809e-01,  9.03766394e-01]], dtype=float32)>"
            ]
          },
          "metadata": {},
          "execution_count": 51
        }
      ]
    },
    {
      "cell_type": "code",
      "source": [
        "from keras.layers import Dense, Activation\n",
        "\n",
        "from keras.models import Sequential"
      ],
      "metadata": {
        "id": "Wg2rWdiS-4SJ"
      },
      "execution_count": null,
      "outputs": []
    },
    {
      "cell_type": "code",
      "source": [
        "#bert layer\n",
        "text_input = tf.keras.layers.Input(shape=(), dtype=tf.string, name='text')\n",
        "\n",
        "preprocessed_text = bert_prep(text_input)\n",
        "\n",
        "outputs = bert_model(preprocessed_text)\n",
        "\n",
        "\n",
        "#nn layer\n",
        "l = tf.keras.layers.Dropout(0.1, name='dropout')(outputs['pooled_output'])\n",
        "\n",
        "l = tf.keras.layers.Dense(3, activation='softmax', name='output')(l)\n",
        "\n",
        "\n",
        "#model = Sequential()\n",
        "#model.add(Dense(768))\n",
        "#model.add(Activation('relu'))\n",
        "#model.add(Dense(3))\n",
        "#model.add(Activation('softmax'))\n",
        "#model.compile(loss='categorical_crossentropy', optimizer='adam', metrics=['accuracy'])\n",
        "\n",
        "#model.metrics_names\n",
        "\n",
        "model = tf.keras.Model(inputs=[text_input], outputs=[l])"
      ],
      "metadata": {
        "id": "v-oZUNyb3TZd"
      },
      "execution_count": null,
      "outputs": []
    },
    {
      "cell_type": "code",
      "source": [
        "model.summary()"
      ],
      "metadata": {
        "colab": {
          "base_uri": "https://localhost:8080/"
        },
        "id": "Vuzelc4D7oh7",
        "outputId": "44508f7c-8410-42b6-8689-04eb953a25c4"
      },
      "execution_count": null,
      "outputs": [
        {
          "output_type": "stream",
          "name": "stdout",
          "text": [
            "Model: \"model_3\"\n",
            "__________________________________________________________________________________________________\n",
            " Layer (type)                   Output Shape         Param #     Connected to                     \n",
            "==================================================================================================\n",
            " text (InputLayer)              [(None,)]            0           []                               \n",
            "                                                                                                  \n",
            " keras_layer (KerasLayer)       {'input_mask': (Non  0           ['text[0][0]']                   \n",
            "                                e, 128),                                                          \n",
            "                                 'input_word_ids':                                                \n",
            "                                (None, 128),                                                      \n",
            "                                 'input_type_ids':                                                \n",
            "                                (None, 128)}                                                      \n",
            "                                                                                                  \n",
            " keras_layer_1 (KerasLayer)     {'encoder_outputs':  109482241   ['keras_layer[10][0]',           \n",
            "                                 [(None, 128, 768),               'keras_layer[10][1]',           \n",
            "                                 (None, 128, 768),                'keras_layer[10][2]']           \n",
            "                                 (None, 128, 768),                                                \n",
            "                                 (None, 128, 768),                                                \n",
            "                                 (None, 128, 768),                                                \n",
            "                                 (None, 128, 768),                                                \n",
            "                                 (None, 128, 768),                                                \n",
            "                                 (None, 128, 768),                                                \n",
            "                                 (None, 128, 768),                                                \n",
            "                                 (None, 128, 768),                                                \n",
            "                                 (None, 128, 768),                                                \n",
            "                                 (None, 128, 768)],                                               \n",
            "                                 'pooled_output': (                                               \n",
            "                                None, 768),                                                       \n",
            "                                 'default': (None,                                                \n",
            "                                768),                                                             \n",
            "                                 'sequence_output':                                               \n",
            "                                 (None, 128, 768)}                                                \n",
            "                                                                                                  \n",
            " dropout (Dropout)              (None, 768)          0           ['keras_layer_1[10][13]']        \n",
            "                                                                                                  \n",
            " output (Dense)                 (None, 3)            2307        ['dropout[0][0]']                \n",
            "                                                                                                  \n",
            "==================================================================================================\n",
            "Total params: 109,484,548\n",
            "Trainable params: 2,307\n",
            "Non-trainable params: 109,482,241\n",
            "__________________________________________________________________________________________________\n"
          ]
        }
      ]
    },
    {
      "cell_type": "code",
      "source": [
        "METRICS = [\n",
        "           tf.keras.metrics.BinaryAccuracy(name='accuracy')\n",
        "]\n",
        "\n",
        "model.compile(optimizer='adam',\n",
        "              loss='binary_crossentropy',\n",
        "              metrics=METRICS)\n",
        "\n",
        "model.compile(loss='categorical_crossentropy', optimizer='adam', metrics=['accuracy'])"
      ],
      "metadata": {
        "id": "3zIGDUSu7Gmu"
      },
      "execution_count": null,
      "outputs": []
    },
    {
      "cell_type": "code",
      "source": [
        "model.fit(X_train, y_train, epochs=10, batch_size=64)"
      ],
      "metadata": {
        "colab": {
          "base_uri": "https://localhost:8080/"
        },
        "id": "zNPWzlid9oBa",
        "outputId": "c6e33f53-8ee6-44ad-e495-b4222867dfbb"
      },
      "execution_count": null,
      "outputs": [
        {
          "output_type": "stream",
          "name": "stdout",
          "text": [
            "Epoch 1/10\n",
            "57/57 [==============================] - 1561s 27s/step - loss: 0.9979 - accuracy: 0.5487\n",
            "Epoch 2/10\n",
            "57/57 [==============================] - 1558s 27s/step - loss: 0.8988 - accuracy: 0.5861\n",
            "Epoch 3/10\n",
            "57/57 [==============================] - 1544s 27s/step - loss: 0.8758 - accuracy: 0.6021\n",
            "Epoch 4/10\n",
            "57/57 [==============================] - 1564s 27s/step - loss: 0.8475 - accuracy: 0.6090\n",
            "Epoch 5/10\n",
            "57/57 [==============================] - 1549s 27s/step - loss: 0.8438 - accuracy: 0.6114\n",
            "Epoch 6/10\n",
            "57/57 [==============================] - 1543s 27s/step - loss: 0.8088 - accuracy: 0.6241\n",
            "Epoch 7/10\n",
            "57/57 [==============================] - 1565s 27s/step - loss: 0.8017 - accuracy: 0.6354\n",
            "Epoch 8/10\n",
            "57/57 [==============================] - 1565s 27s/step - loss: 0.7933 - accuracy: 0.6359\n",
            "Epoch 9/10\n",
            "57/57 [==============================] - 1569s 28s/step - loss: 0.7927 - accuracy: 0.6357\n",
            "Epoch 10/10\n",
            "57/57 [==============================] - 1575s 28s/step - loss: 0.7851 - accuracy: 0.6412\n"
          ]
        },
        {
          "output_type": "execute_result",
          "data": {
            "text/plain": [
              "<keras.callbacks.History at 0x7f6ca2651990>"
            ]
          },
          "metadata": {},
          "execution_count": 84
        }
      ]
    },
    {
      "cell_type": "code",
      "source": [
        "model.evaluate(X_test, y_test)"
      ],
      "metadata": {
        "colab": {
          "base_uri": "https://localhost:8080/"
        },
        "id": "o9OnMz7zOpQz",
        "outputId": "93444b62-f8a3-4494-bdce-0e882b526121"
      },
      "execution_count": null,
      "outputs": [
        {
          "output_type": "stream",
          "name": "stdout",
          "text": [
            "38/38 [==============================] - 533s 14s/step - loss: 0.7420 - accuracy: 0.6823\n"
          ]
        },
        {
          "output_type": "execute_result",
          "data": {
            "text/plain": [
              "[0.7420291900634766, 0.6823432445526123]"
            ]
          },
          "metadata": {},
          "execution_count": 85
        }
      ]
    },
    {
      "cell_type": "code",
      "source": [
        ""
      ],
      "metadata": {
        "id": "uKIXTM6TKY7O"
      },
      "execution_count": null,
      "outputs": []
    }
  ]
}